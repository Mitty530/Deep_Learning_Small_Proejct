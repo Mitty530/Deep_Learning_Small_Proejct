{
  "cells": [
    {
      "cell_type": "code",
      "execution_count": null,
      "id": "18e3444d",
      "metadata": {
        "id": "18e3444d"
      },
      "outputs": [],
      "source": [
        "# Part 1 - Data Preprocessing\n",
        "\n",
        "# Importing the libraries\n",
        "import numpy as np\n",
        "import matplotlib.pyplot as plt\n",
        "import pandas as pd"
      ]
    },
    {
      "cell_type": "code",
      "execution_count": null,
      "id": "34b9507b",
      "metadata": {
        "id": "34b9507b"
      },
      "outputs": [],
      "source": [
        "# Importing the training set\n",
        "data = pd.read_csv('./AAPL.csv')\n",
        "# \"Open\" has been taken as the target variable\n",
        "training_set = data.iloc[:, 1:2].values"
      ]
    },
    {
      "cell_type": "code",
      "execution_count": null,
      "id": "2102c57b",
      "metadata": {
        "id": "2102c57b",
        "outputId": "868587f7-9511-45bb-af65-f7f1f3ee6924"
      },
      "outputs": [
        {
          "data": {
            "text/plain": [
              "array([[19.779285],\n",
              "       [19.567142],\n",
              "       [19.1775  ],\n",
              "       ...,\n",
              "       [42.525002],\n",
              "       [42.75    ],\n",
              "       [42.630001]])"
            ]
          },
          "execution_count": 3,
          "metadata": {},
          "output_type": "execute_result"
        }
      ],
      "source": [
        "training_set"
      ]
    },
    {
      "cell_type": "code",
      "execution_count": null,
      "id": "df927810",
      "metadata": {
        "id": "df927810",
        "outputId": "7e5a3dcc-d446-4ff1-c073-19dd90aee364"
      },
      "outputs": [
        {
          "data": {
            "text/html": [
              "<div>\n",
              "<style scoped>\n",
              "    .dataframe tbody tr th:only-of-type {\n",
              "        vertical-align: middle;\n",
              "    }\n",
              "\n",
              "    .dataframe tbody tr th {\n",
              "        vertical-align: top;\n",
              "    }\n",
              "\n",
              "    .dataframe thead th {\n",
              "        text-align: right;\n",
              "    }\n",
              "</style>\n",
              "<table border=\"1\" class=\"dataframe\">\n",
              "  <thead>\n",
              "    <tr style=\"text-align: right;\">\n",
              "      <th></th>\n",
              "      <th>Open</th>\n",
              "      <th>High</th>\n",
              "      <th>Low</th>\n",
              "      <th>Close</th>\n",
              "      <th>Adj Close</th>\n",
              "      <th>Volume</th>\n",
              "    </tr>\n",
              "  </thead>\n",
              "  <tbody>\n",
              "    <tr>\n",
              "      <th>count</th>\n",
              "      <td>1259.000000</td>\n",
              "      <td>1259.000000</td>\n",
              "      <td>1259.000000</td>\n",
              "      <td>1259.000000</td>\n",
              "      <td>1259.000000</td>\n",
              "      <td>1.259000e+03</td>\n",
              "    </tr>\n",
              "    <tr>\n",
              "      <th>mean</th>\n",
              "      <td>26.738270</td>\n",
              "      <td>26.957582</td>\n",
              "      <td>26.511831</td>\n",
              "      <td>26.740302</td>\n",
              "      <td>24.794746</td>\n",
              "      <td>2.258274e+08</td>\n",
              "    </tr>\n",
              "    <tr>\n",
              "      <th>std</th>\n",
              "      <td>7.407581</td>\n",
              "      <td>7.437419</td>\n",
              "      <td>7.370204</td>\n",
              "      <td>7.412704</td>\n",
              "      <td>7.471182</td>\n",
              "      <td>1.493920e+08</td>\n",
              "    </tr>\n",
              "    <tr>\n",
              "      <th>min</th>\n",
              "      <td>13.856071</td>\n",
              "      <td>14.271428</td>\n",
              "      <td>13.753572</td>\n",
              "      <td>13.947500</td>\n",
              "      <td>12.230474</td>\n",
              "      <td>4.590360e+07</td>\n",
              "    </tr>\n",
              "    <tr>\n",
              "      <th>25%</th>\n",
              "      <td>19.918929</td>\n",
              "      <td>20.098572</td>\n",
              "      <td>19.779822</td>\n",
              "      <td>19.908214</td>\n",
              "      <td>17.792248</td>\n",
              "      <td>1.216430e+08</td>\n",
              "    </tr>\n",
              "    <tr>\n",
              "      <th>50%</th>\n",
              "      <td>26.969999</td>\n",
              "      <td>27.217501</td>\n",
              "      <td>26.705000</td>\n",
              "      <td>26.982500</td>\n",
              "      <td>25.012623</td>\n",
              "      <td>1.858868e+08</td>\n",
              "    </tr>\n",
              "    <tr>\n",
              "      <th>75%</th>\n",
              "      <td>31.498750</td>\n",
              "      <td>31.727500</td>\n",
              "      <td>31.228750</td>\n",
              "      <td>31.471251</td>\n",
              "      <td>28.914570</td>\n",
              "      <td>2.822750e+08</td>\n",
              "    </tr>\n",
              "    <tr>\n",
              "      <th>max</th>\n",
              "      <td>43.777500</td>\n",
              "      <td>44.299999</td>\n",
              "      <td>43.715000</td>\n",
              "      <td>44.105000</td>\n",
              "      <td>42.516113</td>\n",
              "      <td>1.460852e+09</td>\n",
              "    </tr>\n",
              "  </tbody>\n",
              "</table>\n",
              "</div>"
            ],
            "text/plain": [
              "              Open         High          Low        Close    Adj Close  \\\n",
              "count  1259.000000  1259.000000  1259.000000  1259.000000  1259.000000   \n",
              "mean     26.738270    26.957582    26.511831    26.740302    24.794746   \n",
              "std       7.407581     7.437419     7.370204     7.412704     7.471182   \n",
              "min      13.856071    14.271428    13.753572    13.947500    12.230474   \n",
              "25%      19.918929    20.098572    19.779822    19.908214    17.792248   \n",
              "50%      26.969999    27.217501    26.705000    26.982500    25.012623   \n",
              "75%      31.498750    31.727500    31.228750    31.471251    28.914570   \n",
              "max      43.777500    44.299999    43.715000    44.105000    42.516113   \n",
              "\n",
              "             Volume  \n",
              "count  1.259000e+03  \n",
              "mean   2.258274e+08  \n",
              "std    1.493920e+08  \n",
              "min    4.590360e+07  \n",
              "25%    1.216430e+08  \n",
              "50%    1.858868e+08  \n",
              "75%    2.822750e+08  \n",
              "max    1.460852e+09  "
            ]
          },
          "execution_count": 14,
          "metadata": {},
          "output_type": "execute_result"
        }
      ],
      "source": [
        "data.describe()"
      ]
    },
    {
      "cell_type": "code",
      "execution_count": null,
      "id": "0e1e6648",
      "metadata": {
        "id": "0e1e6648",
        "outputId": "180e85c6-d147-40c6-c9a7-75e198de3319"
      },
      "outputs": [
        {
          "data": {
            "image/png": "[encoded data removed]",
            "text/plain": [
              "<Figure size 1440x360 with 1 Axes>"
            ]
          },
          "metadata": {
            "needs_background": "light"
          },
          "output_type": "display_data"
        }
      ],
      "source": [
        "import seaborn as sns\n",
        "plt.figure(figsize=(20,5))\n",
        "sns.lineplot(x = \"Date\", y = \"Open\", data=data)\n",
        "plt.show()"
      ]
    },
    {
      "cell_type": "code",
      "execution_count": null,
      "id": "019fddfe",
      "metadata": {
        "id": "019fddfe"
      },
      "outputs": [],
      "source": [
        "# Feature Scaling\n",
        "from sklearn.preprocessing import MinMaxScaler\n",
        "sc = MinMaxScaler(feature_range = (0, 1))\n",
        "training_set_scaled = sc.fit_transform(training_set)"
      ]
    },
    {
      "cell_type": "code",
      "execution_count": null,
      "id": "266b3ad9",
      "metadata": {
        "id": "266b3ad9",
        "outputId": "69abb45b-bee2-4255-d7e5-7de5f8d63445"
      },
      "outputs": [
        {
          "name": "stdout",
          "output_type": "stream",
          "text": [
            "[[0.19795893]\n",
            " [0.19086893]\n",
            " [0.17784675]\n",
            " ...\n",
            " [0.95814044]\n",
            " [0.96566006]\n",
            " [0.96164959]]\n"
          ]
        }
      ],
      "source": [
        "print(training_set_scaled)"
      ]
    },
    {
      "cell_type": "code",
      "execution_count": null,
      "id": "b5b97ee2",
      "metadata": {
        "id": "b5b97ee2"
      },
      "outputs": [],
      "source": [
        "# Creating a data structure with 60 timestamps and 1 output\n",
        "X_train = []\n",
        "y_train = []\n",
        "for i in range(60, 1259):\n",
        "    X_train.append(training_set_scaled[i-60:i, 0])\n",
        "    y_train.append(training_set_scaled[i, 0])\n",
        "X_train, y_train = np.array(X_train), np.array(y_train)"
      ]
    },
    {
      "cell_type": "code",
      "execution_count": null,
      "id": "f8196ddc",
      "metadata": {
        "id": "f8196ddc",
        "outputId": "50e5e3fc-1b54-4974-90fd-21949c01396b"
      },
      "outputs": [
        {
          "name": "stdout",
          "output_type": "stream",
          "text": [
            "[[0.19795893 0.19086893 0.17784675 ... 0.09246841 0.08174984 0.07382435]\n",
            " [0.19086893 0.17784675 0.15997852 ... 0.08174984 0.07382435 0.06437099]\n",
            " [0.17784675 0.15997852 0.16858436 ... 0.07382435 0.06437099 0.04730245]\n",
            " ...\n",
            " [0.82579371 0.82370491 0.82053    ... 0.9921461  0.99640719 0.96398905]\n",
            " [0.82370491 0.82053    0.82512526 ... 0.99640719 0.96398905 0.95814044]\n",
            " [0.82053    0.82512526 0.83172595 ... 0.96398905 0.95814044 0.96566006]]\n"
          ]
        },
        {
          "data": {
            "text/plain": [
              "(1199, 60)"
            ]
          },
          "execution_count": 16,
          "metadata": {},
          "output_type": "execute_result"
        }
      ],
      "source": [
        "print(X_train)\n",
        "X_train.shape"
      ]
    },
    {
      "cell_type": "code",
      "execution_count": null,
      "id": "688904f6",
      "metadata": {
        "id": "688904f6",
        "outputId": "2b51bd5d-c044-49f3-cbcc-160bd61b30e9"
      },
      "outputs": [
        {
          "name": "stdout",
          "output_type": "stream",
          "text": [
            "[0.06437099 0.04730245 0.05180237 ... 0.95814044 0.96566006 0.96164959]\n"
          ]
        },
        {
          "data": {
            "text/plain": [
              "(1199,)"
            ]
          },
          "execution_count": 17,
          "metadata": {},
          "output_type": "execute_result"
        }
      ],
      "source": [
        "print(y_train)\n",
        "y_train.shape"
      ]
    },
    {
      "cell_type": "code",
      "execution_count": null,
      "id": "f005be3f",
      "metadata": {
        "id": "f005be3f"
      },
      "outputs": [],
      "source": [
        "# Reshaping\n",
        "X_train = np.reshape(X_train, (X_train.shape[0], X_train.shape[1], 1))"
      ]
    },
    {
      "cell_type": "code",
      "execution_count": null,
      "id": "59a80eed",
      "metadata": {
        "id": "59a80eed",
        "outputId": "d3dea126-dbcd-449a-dd7f-b23772521f5a"
      },
      "outputs": [
        {
          "name": "stdout",
          "output_type": "stream",
          "text": [
            "[[[0.19795893]\n",
            "  [0.19086893]\n",
            "  [0.17784675]\n",
            "  ...\n",
            "  [0.09246841]\n",
            "  [0.08174984]\n",
            "  [0.07382435]]\n",
            "\n",
            " [[0.19086893]\n",
            "  [0.17784675]\n",
            "  [0.15997852]\n",
            "  ...\n",
            "  [0.08174984]\n",
            "  [0.07382435]\n",
            "  [0.06437099]]\n",
            "\n",
            " [[0.17784675]\n",
            "  [0.15997852]\n",
            "  [0.16858436]\n",
            "  ...\n",
            "  [0.07382435]\n",
            "  [0.06437099]\n",
            "  [0.04730245]]\n",
            "\n",
            " ...\n",
            "\n",
            " [[0.82579371]\n",
            "  [0.82370491]\n",
            "  [0.82053   ]\n",
            "  ...\n",
            "  [0.9921461 ]\n",
            "  [0.99640719]\n",
            "  [0.96398905]]\n",
            "\n",
            " [[0.82370491]\n",
            "  [0.82053   ]\n",
            "  [0.82512526]\n",
            "  ...\n",
            "  [0.99640719]\n",
            "  [0.96398905]\n",
            "  [0.95814044]]\n",
            "\n",
            " [[0.82053   ]\n",
            "  [0.82512526]\n",
            "  [0.83172595]\n",
            "  ...\n",
            "  [0.96398905]\n",
            "  [0.95814044]\n",
            "  [0.96566006]]]\n"
          ]
        }
      ],
      "source": [
        "print(X_train)"
      ]
    },
    {
      "cell_type": "code",
      "execution_count": null,
      "id": "e2bd9357",
      "metadata": {
        "id": "e2bd9357"
      },
      "outputs": [],
      "source": [
        "# Part 2 - Building the RNN\n",
        "\n",
        "# Importing the Keras libraries and packages\n",
        "from keras.models import Sequential\n",
        "from keras.layers import Dense\n",
        "from keras.layers import LSTM\n",
        "from keras.layers import Dropout"
      ]
    },
    {
      "cell_type": "code",
      "execution_count": null,
      "id": "ff70081e",
      "metadata": {
        "scrolled": true,
        "id": "ff70081e",
        "outputId": "11f891b1-d5a1-4df7-da26-f38b114690d8"
      },
      "outputs": [
        {
          "name": "stdout",
          "output_type": "stream",
          "text": [
            "Epoch 1/100\n",
            "38/38 [==============================] - 14s 110ms/step - loss: 0.0391\n",
            "Epoch 2/100\n",
            "38/38 [==============================] - 4s 104ms/step - loss: 0.0059\n",
            "Epoch 3/100\n",
            "38/38 [==============================] - 4s 95ms/step - loss: 0.0055\n",
            "Epoch 4/100\n",
            "38/38 [==============================] - 4s 102ms/step - loss: 0.0052\n",
            "Epoch 5/100\n",
            "38/38 [==============================] - 4s 114ms/step - loss: 0.0046\n",
            "Epoch 6/100\n",
            "38/38 [==============================] - 4s 102ms/step - loss: 0.0041\n",
            "Epoch 7/100\n",
            "38/38 [==============================] - 5s 119ms/step - loss: 0.0037\n",
            "Epoch 8/100\n",
            "38/38 [==============================] - 4s 103ms/step - loss: 0.0044\n",
            "Epoch 9/100\n",
            "38/38 [==============================] - 4s 95ms/step - loss: 0.0039\n",
            "Epoch 10/100\n",
            "38/38 [==============================] - 4s 99ms/step - loss: 0.0042\n",
            "Epoch 11/100\n",
            "38/38 [==============================] - 4s 101ms/step - loss: 0.0036\n",
            "Epoch 12/100\n",
            "38/38 [==============================] - 4s 102ms/step - loss: 0.0038\n",
            "Epoch 13/100\n",
            "38/38 [==============================] - 4s 101ms/step - loss: 0.0032\n",
            "Epoch 14/100\n",
            "38/38 [==============================] - 5s 119ms/step - loss: 0.0032\n",
            "Epoch 15/100\n",
            "38/38 [==============================] - 5s 134ms/step - loss: 0.0033\n",
            "Epoch 16/100\n",
            "38/38 [==============================] - 4s 116ms/step - loss: 0.0031\n",
            "Epoch 17/100\n",
            "38/38 [==============================] - 4s 114ms/step - loss: 0.0029\n",
            "Epoch 18/100\n",
            "38/38 [==============================] - 4s 107ms/step - loss: 0.0029\n",
            "Epoch 19/100\n",
            "38/38 [==============================] - 4s 112ms/step - loss: 0.0030\n",
            "Epoch 20/100\n",
            "38/38 [==============================] - 5s 119ms/step - loss: 0.0028\n",
            "Epoch 21/100\n",
            "38/38 [==============================] - 4s 103ms/step - loss: 0.0028\n",
            "Epoch 22/100\n",
            "38/38 [==============================] - 4s 97ms/step - loss: 0.0030\n",
            "Epoch 23/100\n",
            "38/38 [==============================] - 4s 102ms/step - loss: 0.0029\n",
            "Epoch 24/100\n",
            "38/38 [==============================] - 5s 120ms/step - loss: 0.0024\n",
            "Epoch 25/100\n",
            "38/38 [==============================] - 4s 100ms/step - loss: 0.0022\n",
            "Epoch 26/100\n",
            "38/38 [==============================] - 5s 123ms/step - loss: 0.0026\n",
            "Epoch 27/100\n",
            "38/38 [==============================] - 4s 103ms/step - loss: 0.0027\n",
            "Epoch 28/100\n",
            "38/38 [==============================] - 4s 101ms/step - loss: 0.0023\n",
            "Epoch 29/100\n",
            "38/38 [==============================] - 4s 114ms/step - loss: 0.0026\n",
            "Epoch 30/100\n",
            "38/38 [==============================] - 4s 104ms/step - loss: 0.0026\n",
            "Epoch 31/100\n",
            "38/38 [==============================] - 4s 104ms/step - loss: 0.0021\n",
            "Epoch 32/100\n",
            "38/38 [==============================] - 5s 117ms/step - loss: 0.0022\n",
            "Epoch 33/100\n",
            "38/38 [==============================] - 4s 108ms/step - loss: 0.0021\n",
            "Epoch 34/100\n",
            "38/38 [==============================] - 4s 99ms/step - loss: 0.0024\n",
            "Epoch 35/100\n",
            "38/38 [==============================] - 4s 95ms/step - loss: 0.0022\n",
            "Epoch 36/100\n",
            "38/38 [==============================] - 4s 96ms/step - loss: 0.0021\n",
            "Epoch 37/100\n",
            "38/38 [==============================] - 4s 93ms/step - loss: 0.0021\n",
            "Epoch 38/100\n",
            "38/38 [==============================] - 4s 93ms/step - loss: 0.0020\n",
            "Epoch 39/100\n",
            "38/38 [==============================] - 4s 97ms/step - loss: 0.0021\n",
            "Epoch 40/100\n",
            "38/38 [==============================] - 4s 92ms/step - loss: 0.0026\n",
            "Epoch 41/100\n",
            "38/38 [==============================] - 3s 91ms/step - loss: 0.0020\n",
            "Epoch 42/100\n",
            "38/38 [==============================] - 3s 91ms/step - loss: 0.0023\n",
            "Epoch 43/100\n",
            "38/38 [==============================] - 4s 100ms/step - loss: 0.0018\n",
            "Epoch 44/100\n",
            "38/38 [==============================] - 4s 97ms/step - loss: 0.0020\n",
            "Epoch 45/100\n",
            "38/38 [==============================] - 3s 90ms/step - loss: 0.0019\n",
            "Epoch 46/100\n",
            "38/38 [==============================] - 3s 89ms/step - loss: 0.0023\n",
            "Epoch 47/100\n",
            "38/38 [==============================] - 3s 90ms/step - loss: 0.0018\n",
            "Epoch 48/100\n",
            "38/38 [==============================] - 3s 91ms/step - loss: 0.0019\n",
            "Epoch 49/100\n",
            "38/38 [==============================] - 3s 89ms/step - loss: 0.0018\n",
            "Epoch 50/100\n",
            "38/38 [==============================] - 3s 89ms/step - loss: 0.0020\n",
            "Epoch 51/100\n",
            "38/38 [==============================] - 3s 90ms/step - loss: 0.0018\n",
            "Epoch 52/100\n",
            "38/38 [==============================] - 4s 93ms/step - loss: 0.0016\n",
            "Epoch 53/100\n",
            "38/38 [==============================] - 3s 91ms/step - loss: 0.0017\n",
            "Epoch 54/100\n",
            "38/38 [==============================] - 4s 94ms/step - loss: 0.0017\n",
            "Epoch 55/100\n",
            "38/38 [==============================] - 3s 89ms/step - loss: 0.0017\n",
            "Epoch 56/100\n",
            "38/38 [==============================] - 3s 90ms/step - loss: 0.0016\n",
            "Epoch 57/100\n",
            "38/38 [==============================] - 3s 91ms/step - loss: 0.0015\n",
            "Epoch 58/100\n",
            "38/38 [==============================] - 4s 94ms/step - loss: 0.0016\n",
            "Epoch 59/100\n",
            "38/38 [==============================] - 3s 91ms/step - loss: 0.0018\n",
            "Epoch 60/100\n",
            "38/38 [==============================] - 4s 93ms/step - loss: 0.0019\n",
            "Epoch 61/100\n",
            "38/38 [==============================] - 3s 91ms/step - loss: 0.0016\n",
            "Epoch 62/100\n",
            "38/38 [==============================] - 3s 90ms/step - loss: 0.0015\n",
            "Epoch 63/100\n",
            "38/38 [==============================] - 3s 89ms/step - loss: 0.0018\n",
            "Epoch 64/100\n",
            "38/38 [==============================] - 3s 90ms/step - loss: 0.0016\n",
            "Epoch 65/100\n",
            "38/38 [==============================] - 3s 89ms/step - loss: 0.0015\n",
            "Epoch 66/100\n",
            "38/38 [==============================] - 3s 89ms/step - loss: 0.0014\n",
            "Epoch 67/100\n",
            "38/38 [==============================] - 3s 90ms/step - loss: 0.0016\n",
            "Epoch 68/100\n",
            "38/38 [==============================] - 3s 90ms/step - loss: 0.0017\n",
            "Epoch 69/100\n",
            "38/38 [==============================] - 3s 91ms/step - loss: 0.0013\n",
            "Epoch 70/100\n",
            "38/38 [==============================] - 4s 95ms/step - loss: 0.0013\n",
            "Epoch 71/100\n",
            "38/38 [==============================] - 4s 96ms/step - loss: 0.0015\n",
            "Epoch 72/100\n",
            "38/38 [==============================] - 4s 94ms/step - loss: 0.0014\n",
            "Epoch 73/100\n",
            "38/38 [==============================] - 4s 98ms/step - loss: 0.0013\n",
            "Epoch 74/100\n",
            "38/38 [==============================] - 3s 92ms/step - loss: 0.0014\n",
            "Epoch 75/100\n",
            "38/38 [==============================] - 4s 99ms/step - loss: 0.0014\n",
            "Epoch 76/100\n",
            "38/38 [==============================] - 4s 102ms/step - loss: 0.0015\n",
            "Epoch 77/100\n",
            "38/38 [==============================] - 4s 99ms/step - loss: 0.0012\n",
            "Epoch 78/100\n",
            "38/38 [==============================] - 4s 98ms/step - loss: 0.0015\n",
            "Epoch 79/100\n",
            "38/38 [==============================] - 4s 93ms/step - loss: 0.0012\n",
            "Epoch 80/100\n",
            "38/38 [==============================] - 4s 94ms/step - loss: 0.0013\n",
            "Epoch 81/100\n",
            "38/38 [==============================] - 3s 89ms/step - loss: 0.0014\n",
            "Epoch 82/100\n",
            "38/38 [==============================] - 4s 93ms/step - loss: 0.0016\n",
            "Epoch 83/100\n",
            "38/38 [==============================] - 3s 91ms/step - loss: 0.0014\n",
            "Epoch 84/100\n",
            "38/38 [==============================] - 3s 89ms/step - loss: 0.0012\n",
            "Epoch 85/100\n",
            "38/38 [==============================] - 3s 91ms/step - loss: 0.0013\n",
            "Epoch 86/100\n",
            "38/38 [==============================] - 3s 90ms/step - loss: 0.0012\n",
            "Epoch 87/100\n",
            "38/38 [==============================] - 3s 91ms/step - loss: 0.0013\n",
            "Epoch 88/100\n",
            "38/38 [==============================] - 3s 90ms/step - loss: 0.0013\n",
            "Epoch 89/100\n",
            "38/38 [==============================] - 4s 93ms/step - loss: 0.0012\n",
            "Epoch 90/100\n",
            "38/38 [==============================] - 4s 93ms/step - loss: 0.0014\n",
            "Epoch 91/100\n",
            "38/38 [==============================] - 3s 90ms/step - loss: 0.0011\n",
            "Epoch 92/100\n",
            "38/38 [==============================] - 4s 93ms/step - loss: 0.0011\n",
            "Epoch 93/100\n",
            "38/38 [==============================] - 3s 91ms/step - loss: 0.0011\n",
            "Epoch 94/100\n",
            "38/38 [==============================] - 4s 94ms/step - loss: 0.0012\n",
            "Epoch 95/100\n",
            "38/38 [==============================] - 4s 99ms/step - loss: 0.0013\n",
            "Epoch 96/100\n",
            "38/38 [==============================] - 4s 93ms/step - loss: 0.0012\n",
            "Epoch 97/100\n",
            "38/38 [==============================] - 3s 90ms/step - loss: 0.0012\n",
            "Epoch 98/100\n",
            "38/38 [==============================] - 3s 90ms/step - loss: 0.0010\n",
            "Epoch 99/100\n",
            "38/38 [==============================] - 3s 91ms/step - loss: 0.0011\n",
            "Epoch 100/100\n"
          ]
        },
        {
          "name": "stdout",
          "output_type": "stream",
          "text": [
            "38/38 [==============================] - 3s 89ms/step - loss: 9.9708e-04\n"
          ]
        },
        {
          "data": {
            "text/plain": [
              "<keras.callbacks.History at 0x1d077d52e20>"
            ]
          },
          "execution_count": 21,
          "metadata": {},
          "output_type": "execute_result"
        }
      ],
      "source": [
        "# Initialising the RNN\n",
        "regressor = Sequential()\n",
        "\n",
        "# Adding the first LSTM layer and some Dropout regularisation\n",
        "regressor.add(LSTM(units = 50, return_sequences = True, input_shape = (X_train.shape[1], 1)))\n",
        "regressor.add(Dropout(0.2))\n",
        "# Adding a second LSTM layer and some Dropout regularisation\n",
        "regressor.add(LSTM(units = 50, return_sequences = True))\n",
        "regressor.add(Dropout(0.2))\n",
        "# Adding a third LSTM layer and some Dropout regularisation\n",
        "regressor.add(LSTM(units = 50, return_sequences = True))\n",
        "regressor.add(Dropout(0.2))\n",
        "# Adding a fourth LSTM layer and some Dropout regularisation\n",
        "regressor.add(LSTM(units = 50))\n",
        "regressor.add(Dropout(0.2))\n",
        "# Adding the output layer\n",
        "regressor.add(Dense(units = 1))\n",
        "\n",
        "# Compiling the RNN\n",
        "regressor.compile(optimizer = 'adam', loss = 'mean_squared_error')\n",
        "\n",
        "# Fitting the RNN to the Training set\n",
        "regressor.fit(X_train, y_train, epochs = 100, batch_size = 32)"
      ]
    },
    {
      "cell_type": "code",
      "execution_count": null,
      "id": "d4477c36",
      "metadata": {
        "id": "d4477c36"
      },
      "outputs": [],
      "source": [
        "# Part 3 - Making the predictions and visualising the results using the test dataset\n",
        "\n",
        "# Getting the real stock price of 2017\n",
        "dataset_test = pd.read_csv('./AAPLTest.csv')\n",
        "real_stock_price = dataset_test.iloc[:, 1:2].values"
      ]
    },
    {
      "cell_type": "code",
      "execution_count": null,
      "id": "3947d474",
      "metadata": {
        "scrolled": false,
        "id": "3947d474",
        "outputId": "07ca2765-3391-44c3-ebf9-736195efc57b"
      },
      "outputs": [
        {
          "data": {
            "text/plain": [
              "array([[42.540001],\n",
              "       [43.1325  ],\n",
              "       [43.134998],\n",
              "       [43.360001],\n",
              "       [43.587502],\n",
              "       [43.637501],\n",
              "       [43.290001],\n",
              "       [43.647499],\n",
              "       [44.044998],\n",
              "       [44.474998],\n",
              "       [44.037498],\n",
              "       [44.842499],\n",
              "       [44.6525  ],\n",
              "       [44.325001],\n",
              "       [44.325001],\n",
              "       [44.3125  ],\n",
              "       [43.627499],\n",
              "       [43.      ],\n",
              "       [42.540001],\n",
              "       [41.3825  ]])"
            ]
          },
          "execution_count": 23,
          "metadata": {},
          "output_type": "execute_result"
        }
      ],
      "source": [
        "real_stock_price"
      ]
    },
    {
      "cell_type": "code",
      "execution_count": null,
      "id": "ccc33789",
      "metadata": {
        "id": "ccc33789"
      },
      "outputs": [],
      "source": [
        "# Getting the predicted stock price of 2018\n",
        "dataset_total = pd.concat((data['Open'], dataset_test['Open']), axis = 0)\n",
        "inputs = dataset_total[len(dataset_total) - len(dataset_test) - 60:].values\n",
        "inputs = inputs.reshape(-1,1)\n",
        "inputs = sc.transform(inputs)\n",
        "X_test = []\n",
        "for i in range(60, 80):\n",
        "    X_test.append(inputs[i-60:i, 0])\n",
        "X_test = np.array(X_test)\n",
        "X_test = np.reshape(X_test, (X_test.shape[0], X_test.shape[1], 1))\n",
        "predicted_stock_price = regressor.predict(X_test)\n",
        "predicted_stock_price = sc.inverse_transform(predicted_stock_price)"
      ]
    },
    {
      "cell_type": "code",
      "execution_count": null,
      "id": "42e11a61",
      "metadata": {
        "id": "42e11a61",
        "outputId": "b8e4f07b-8698-4202-ed48-e66fa7106b71"
      },
      "outputs": [
        {
          "name": "stdout",
          "output_type": "stream",
          "text": [
            "[[42.885654]\n",
            " [42.85256 ]\n",
            " [42.980556]\n",
            " [43.18261 ]\n",
            " [43.396694]\n",
            " [43.595516]\n",
            " [43.739902]\n",
            " [43.738323]\n",
            " [43.712234]\n",
            " [43.790783]\n",
            " [44.024666]\n",
            " [44.205334]\n",
            " [44.43737 ]\n",
            " [44.630695]\n",
            " [44.6709  ]\n",
            " [44.60132 ]\n",
            " [44.5037  ]\n",
            " [44.29556 ]\n",
            " [43.93632 ]\n",
            " [43.485355]]\n"
          ]
        }
      ],
      "source": [
        "print(predicted_stock_price)"
      ]
    },
    {
      "cell_type": "code",
      "execution_count": null,
      "id": "9f732022",
      "metadata": {
        "id": "9f732022",
        "outputId": "2ad18b2f-94aa-432e-a3d4-6c56123e7ea0"
      },
      "outputs": [
        {
          "data": {
            "image/png": "[encoded data removed]",
            "text/plain": [
              "<Figure size 1440x360 with 1 Axes>"
            ]
          },
          "metadata": {
            "needs_background": "light"
          },
          "output_type": "display_data"
        }
      ],
      "source": [
        "# Visualising the results\n",
        "plt.figure(figsize=(20,5))\n",
        "plt.plot(real_stock_price, color = 'red', label = 'Real Stock Price')\n",
        "plt.plot(predicted_stock_price, color = 'blue', label = 'Predicted Stock Price')\n",
        "plt.title('Stock Price Prediction')\n",
        "plt.xlabel('Time')\n",
        "plt.ylabel('Stock Price')\n",
        "plt.legend()\n",
        "plt.show()"
      ]
    },
    {
      "cell_type": "code",
      "execution_count": null,
      "id": "fe3aaef3",
      "metadata": {
        "id": "fe3aaef3",
        "outputId": "69003ac6-fed7-4059-9e1f-7705ee401918"
      },
      "outputs": [
        {
          "data": {
            "text/plain": [
              "array([[42.885654],\n",
              "       [42.85256 ],\n",
              "       [42.980556],\n",
              "       [43.18261 ],\n",
              "       [43.396694],\n",
              "       [43.595516],\n",
              "       [43.739902],\n",
              "       [43.738323],\n",
              "       [43.712234],\n",
              "       [43.790783],\n",
              "       [44.024666],\n",
              "       [44.205334],\n",
              "       [44.43737 ],\n",
              "       [44.630695],\n",
              "       [44.6709  ],\n",
              "       [44.60132 ],\n",
              "       [44.5037  ],\n",
              "       [44.29556 ],\n",
              "       [43.93632 ],\n",
              "       [43.485355]], dtype=float32)"
            ]
          },
          "execution_count": 41,
          "metadata": {},
          "output_type": "execute_result"
        }
      ],
      "source": [
        "predicted_stock_price"
      ]
    },
    {
      "cell_type": "code",
      "execution_count": null,
      "id": "b1cece94",
      "metadata": {
        "scrolled": true,
        "id": "b1cece94",
        "outputId": "19dbe568-ab25-4b9c-abf9-46a8a5073c06"
      },
      "outputs": [
        {
          "name": "stdout",
          "output_type": "stream",
          "text": [
            "Mean Absolute Error:  0.5112199140258792\n",
            "Mean Squared Error:  0.5323861983592864\n",
            "Root Mean Squared Error:  0.7296479962004188\n"
          ]
        }
      ],
      "source": [
        "from sklearn.metrics import mean_absolute_error, mean_squared_error\n",
        "print(\"Mean Absolute Error: \", mean_absolute_error(predicted_stock_price, real_stock_price))\n",
        "mse = mean_squared_error(predicted_stock_price, real_stock_price)\n",
        "print(\"Mean Squared Error: \", mse)\n",
        "import math\n",
        "print(\"Root Mean Squared Error: \",math.sqrt(mse))"
      ]
    },
    {
      "cell_type": "code",
      "execution_count": null,
      "id": "15d7d409",
      "metadata": {
        "id": "15d7d409",
        "outputId": "ccf90831-ee79-4403-f540-021731546df5"
      },
      "outputs": [
        {
          "data": {
            "text/plain": [
              "20"
            ]
          },
          "execution_count": 43,
          "metadata": {},
          "output_type": "execute_result"
        }
      ],
      "source": [
        "predicted_stock_price.shape[0]"
      ]
    },
    {
      "cell_type": "code",
      "execution_count": null,
      "id": "c84eb336",
      "metadata": {
        "id": "c84eb336",
        "outputId": "f4e72f9b-61cb-429a-8d6f-890064b82f43"
      },
      "outputs": [
        {
          "data": {
            "text/plain": [
              "20"
            ]
          },
          "execution_count": 37,
          "metadata": {},
          "output_type": "execute_result"
        }
      ],
      "source": [
        "real_stock_price.shape[0]"
      ]
    },
    {
      "cell_type": "code",
      "execution_count": null,
      "id": "000c1859",
      "metadata": {
        "id": "000c1859",
        "outputId": "1963a217-4175-4af8-edae-4920623cc376"
      },
      "outputs": [
        {
          "name": "stdout",
          "output_type": "stream",
          "text": [
            "[42.885654 42.85256  42.980556 43.18261  43.396694 43.595516 43.739902\n",
            " 43.738323 43.712234 43.790783 44.024666 44.205334 44.43737  44.630695\n",
            " 44.6709   44.60132  44.5037   44.29556  43.93632  43.485355]\n",
            "\n",
            "[42.540001 43.1325   43.134998 43.360001 43.587502 43.637501 43.290001\n",
            " 43.647499 44.044998 44.474998 44.037498 44.842499 44.6525   44.325001\n",
            " 44.325001 44.3125   43.627499 43.       42.540001 41.3825  ]\n"
          ]
        }
      ],
      "source": [
        "predicted_stock_price = predicted_stock_price.reshape(-1)\n",
        "print(predicted_stock_price)\n",
        "print()\n",
        "\n",
        "real_stock_price = real_stock_price.reshape(-1)\n",
        "print(real_stock_price)"
      ]
    }
  ],
  "metadata": {
    "kernelspec": {
      "display_name": "Python 3",
      "language": "python",
      "name": "python3"
    },
    "language_info": {
      "codemirror_mode": {
        "name": "ipython",
        "version": 3
      },
      "file_extension": ".py",
      "mimetype": "text/x-python",
      "name": "python",
      "nbconvert_exporter": "python",
      "pygments_lexer": "ipython3",
      "version": "3.8.8"
    },
    "colab": {
      "name": "TP055869_NicholasTanKaiZher.ipynb",
      "provenance": []
    }
  },
  "nbformat": 4,
  "nbformat_minor": 5
}