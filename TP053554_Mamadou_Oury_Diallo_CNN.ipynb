{
 "cells": [
  {
   "cell_type": "code",
   "execution_count": null,
   "metadata": {},
   "outputs": [],
   "source": [
    "import tensorflow as tf\n",
    "from tensorflow import keras"
   ]
  },
  {
   "cell_type": "code",
   "execution_count": null,
   "metadata": {
    "colab": {
     "base_uri": "https://localhost:8080/"
    },
    "id": "me36sczBF6dZ",
    "outputId": "8f7f501f-de35-4b93-be0f-70f394cb1747"
   },
   "outputs": [],
   "source": [
    "import keras\n",
    "from keras.models import Sequential \n",
    "from keras.layers import Dense\n",
    "from keras.utils import np_utils\n",
    "\n",
    "#loading the dataset\n",
    "(X_train, y_train), (X_test, y_test) = cifar10.load_data()"
   ]
  },
  {
   "cell_type": "code",
   "execution_count": 2,
   "metadata": {
    "colab": {
     "base_uri": "https://localhost:8080/"
    },
    "id": "jp0FUPOwpEOU",
    "outputId": "8aaab821-7d09-4a8b-d994-cc31333cb710"
   },
   "outputs": [
    {
     "name": "stdout",
     "output_type": "stream",
     "text": [
      "X_train shape (50000, 32, 32, 3)\n",
      "y_train shape (50000, 1)\n",
      "X_test shape (10000, 32, 32, 3)\n",
      "y_test shape (10000, 1)\n"
     ]
    }
   ],
   "source": [
    "print('X_train shape', X_train.shape)\n",
    "print('y_train shape', y_train.shape)\n",
    "print('X_test shape', X_test.shape)\n",
    "print('y_test shape', y_test.shape)"
   ]
  },
  {
   "cell_type": "code",
   "execution_count": 3,
   "metadata": {
    "id": "c9cRVB7kpEc2"
   },
   "outputs": [],
   "source": [
    "#Flattening the images form the 32x32x3 pixels to 1D 3072 pixels\n",
    "#X_train = X_train.reshape(60000, 784)\n",
    "#X_test = X_test.reshape(10000, 784)\n",
    "\n",
    "#convert from integers to floats\n",
    "X_train = X_train.astype('float32')\n",
    "X_test = X_test.astype('float32')"
   ]
  },
  {
   "cell_type": "code",
   "execution_count": 4,
   "metadata": {
    "id": "HRp8a2JVpEf_"
   },
   "outputs": [],
   "source": [
    "#normalising the data to help with the training\n",
    "X_train  /= 255\n",
    "X_test /= 255"
   ]
  },
  {
   "cell_type": "code",
   "execution_count": 5,
   "metadata": {
    "id": "HGTvXHqypEjG"
   },
   "outputs": [],
   "source": [
    "#one-hot encoding using keras numpy-related utilities\n",
    "#np_utils. to_categorical is used to convert array of labeled data(from 0 to nb_classes -1) to one-hot vector\n",
    "n_classes = 10\n",
    "Y_train = np_utils.to_categorical(y_train, n_classes)\n",
    "Y_test = np_utils.to_categorical(y_test, n_classes)"
   ]
  },
  {
   "cell_type": "code",
   "execution_count": 6,
   "metadata": {
    "id": "bwzP0NllpLI_"
   },
   "outputs": [],
   "source": [
    "# Step 2 model\n",
    "from keras.layers import Conv2D, MaxPooling2D, Flatten, Dropout\n",
    "\n",
    "L1 = 16\n",
    "L2 = 32\n",
    "L3 = 64\n",
    "model = Sequential()\n",
    "model.add(Conv2D(L1,(3,3),activation='relu',input_shape=(32,32,3),padding='same'))\n",
    "model.add(MaxPooling2D((2,2)))\n",
    "model.add(Conv2D(L2,(3,3),activation='relu',padding='same'))\n",
    "model.add(MaxPooling2D((2,2)))\n",
    "model.add(Flatten())\n",
    "model.add(Dense(L3,activation='relu'))\n",
    "\n",
    "model.add(Dropout(rate=0.5))\n",
    "model.add(Dense(10,activation='softmax'))\n"
   ]
  },
  {
   "cell_type": "code",
   "execution_count": 7,
   "metadata": {
    "id": "eDiY9J0EpLL1"
   },
   "outputs": [],
   "source": [
    "model.compile(loss = 'categorical_crossentropy',optimizer='adam',metrics=['accuracy'])"
   ]
  },
  {
   "cell_type": "code",
   "execution_count": 9,
   "metadata": {
    "colab": {
     "base_uri": "https://localhost:8080/"
    },
    "id": "3d7AbXFpp09y",
    "outputId": "7d0753c1-33df-48d1-c4c3-985d6c3414c0"
   },
   "outputs": [
    {
     "name": "stdout",
     "output_type": "stream",
     "text": [
      "Epoch 1/10\n",
      "50/50 [==============================] - 12s 47ms/step - loss: 2.0466 - accuracy: 0.2536 - val_loss: 1.7370 - val_accuracy: 0.4072\n",
      "Epoch 2/10\n",
      "50/50 [==============================] - 2s 35ms/step - loss: 1.7469 - accuracy: 0.3692 - val_loss: 1.5442 - val_accuracy: 0.4651\n",
      "Epoch 3/10\n",
      "50/50 [==============================] - 2s 35ms/step - loss: 1.6197 - accuracy: 0.4148 - val_loss: 1.4558 - val_accuracy: 0.4881\n",
      "Epoch 4/10\n",
      "50/50 [==============================] - 2s 36ms/step - loss: 1.5323 - accuracy: 0.4471 - val_loss: 1.3771 - val_accuracy: 0.5208\n",
      "Epoch 5/10\n",
      "50/50 [==============================] - 2s 36ms/step - loss: 1.4776 - accuracy: 0.4646 - val_loss: 1.3333 - val_accuracy: 0.5335\n",
      "Epoch 6/10\n",
      "50/50 [==============================] - 2s 38ms/step - loss: 1.4306 - accuracy: 0.4847 - val_loss: 1.3002 - val_accuracy: 0.5418\n",
      "Epoch 7/10\n",
      "50/50 [==============================] - 2s 36ms/step - loss: 1.3996 - accuracy: 0.4960 - val_loss: 1.2454 - val_accuracy: 0.5592\n",
      "Epoch 8/10\n",
      "50/50 [==============================] - 2s 35ms/step - loss: 1.3697 - accuracy: 0.5079 - val_loss: 1.2249 - val_accuracy: 0.5697\n",
      "Epoch 9/10\n",
      "50/50 [==============================] - 2s 35ms/step - loss: 1.3433 - accuracy: 0.5178 - val_loss: 1.2013 - val_accuracy: 0.5769\n",
      "Epoch 10/10\n",
      "50/50 [==============================] - 2s 35ms/step - loss: 1.3219 - accuracy: 0.5298 - val_loss: 1.1851 - val_accuracy: 0.5817\n"
     ]
    }
   ],
   "source": [
    "history = model.fit(X_train,Y_train,epochs=50,batch_size=1000,validation_data=(X_test,Y_test))"
   ]
  },
  {
   "cell_type": "code",
   "execution_count": 10,
   "metadata": {
    "colab": {
     "base_uri": "https://localhost:8080/",
     "height": 299
    },
    "id": "7wxBQgQ5pLO9",
    "outputId": "2234bdfd-e8f0-42ba-b4b1-77103fed99bd"
   },
   "outputs": [
    {
     "data": {
      "text/plain": [
       "[<matplotlib.lines.Line2D at 0x7f78c0e3b110>]"
      ]
     },
     "execution_count": 10,
     "metadata": {},
     "output_type": "execute_result"
    },
    {
     "data": {
      "image/png": "[encoded data removed]",
      "text/plain": [
       "<Figure size 432x288 with 2 Axes>"
      ]
     },
     "metadata": {
      "needs_background": "light"
     },
     "output_type": "display_data"
    }
   ],
   "source": [
    "import matplotlib.pyplot as pyplot\n",
    "\n",
    "pyplot.subplot(211)\n",
    "pyplot.title('Cross Entropy Loss')\n",
    "pyplot.plot(history.history['loss'], color='blue', label='train')\n",
    "pyplot.plot(history.history['val_loss'], color='orange', label='test')\n",
    "\t# plot accuracy\n",
    "pyplot.subplot(212)\n",
    "pyplot.title('Classification Accuracy')\n",
    "pyplot.plot(history.history['accuracy'], color='blue', label='train')\n",
    "pyplot.plot(history.history['val_accuracy'], color='orange', label='test')\n",
    "\n"
   ]
  },
  {
   "cell_type": "code",
   "execution_count": 11,
   "metadata": {
    "colab": {
     "base_uri": "https://localhost:8080/"
    },
    "id": "oCoofG1upR4O",
    "outputId": "460fb999-6e3b-4688-ca61-1fc63f7932e8"
   },
   "outputs": [
    {
     "name": "stdout",
     "output_type": "stream",
     "text": [
      "X_train shape (50000, 32, 32, 3)\n",
      "y_train shape (50000, 1)\n",
      "X_test shape (10000, 32, 32, 3)\n",
      "y_test shape (10000, 1)\n"
     ]
    }
   ],
   "source": [
    "print('X_train shape', X_train.shape)\n",
    "print('y_train shape', y_train.shape)\n",
    "print('X_test shape', X_test.shape)\n",
    "print('y_test shape', y_test.shape)"
   ]
  },
  {
   "cell_type": "code",
   "execution_count": 12,
   "metadata": {
    "colab": {
     "base_uri": "https://localhost:8080/"
    },
    "id": "lq3OBNpJpR60",
    "outputId": "aee5beab-ebef-47c7-d908-738a4cc91004"
   },
   "outputs": [
    {
     "name": "stdout",
     "output_type": "stream",
     "text": [
      "Epoch 1/10\n",
      "50/50 [==============================] - 2s 45ms/step - loss: 1.2976 - accuracy: 0.5356 - val_loss: 1.1677 - val_accuracy: 0.5886\n",
      "Epoch 2/10\n",
      "50/50 [==============================] - 2s 38ms/step - loss: 1.2761 - accuracy: 0.5438 - val_loss: 1.1604 - val_accuracy: 0.5885\n",
      "Epoch 3/10\n",
      "50/50 [==============================] - 2s 35ms/step - loss: 1.2538 - accuracy: 0.5538 - val_loss: 1.1341 - val_accuracy: 0.5992\n",
      "Epoch 4/10\n",
      "50/50 [==============================] - 2s 36ms/step - loss: 1.2395 - accuracy: 0.5592 - val_loss: 1.1215 - val_accuracy: 0.6042\n",
      "Epoch 5/10\n",
      "50/50 [==============================] - 2s 36ms/step - loss: 1.2263 - accuracy: 0.5632 - val_loss: 1.1045 - val_accuracy: 0.6115\n",
      "Epoch 6/10\n",
      "50/50 [==============================] - 2s 36ms/step - loss: 1.2035 - accuracy: 0.5722 - val_loss: 1.0896 - val_accuracy: 0.6139\n",
      "Epoch 7/10\n",
      "50/50 [==============================] - 2s 38ms/step - loss: 1.1919 - accuracy: 0.5776 - val_loss: 1.0695 - val_accuracy: 0.6212\n",
      "Epoch 8/10\n",
      "50/50 [==============================] - 2s 39ms/step - loss: 1.1743 - accuracy: 0.5851 - val_loss: 1.0679 - val_accuracy: 0.6282\n",
      "Epoch 9/10\n",
      "50/50 [==============================] - 2s 36ms/step - loss: 1.1673 - accuracy: 0.5857 - val_loss: 1.0551 - val_accuracy: 0.6301\n",
      "Epoch 10/10\n",
      "50/50 [==============================] - 2s 35ms/step - loss: 1.1553 - accuracy: 0.5882 - val_loss: 1.0556 - val_accuracy: 0.6269\n"
     ]
    }
   ],
   "source": [
    "history = model.fit(X_train,Y_train,epochs=10,batch_size=1000,validation_data=(X_test,Y_test))"
   ]
  },
  {
   "cell_type": "code",
   "execution_count": 13,
   "metadata": {
    "id": "VmsArjJMpR9K"
   },
   "outputs": [],
   "source": [
    "import matplotlib.pyplot as plt\n",
    "\n",
    "acc2 = history.history['accuracy']\n",
    "val_acc = history.history['val_accuracy']\n",
    "loss2 = history.history['loss']\n",
    "val_loss = history.history['val_loss']"
   ]
  },
  {
   "cell_type": "code",
   "execution_count": 14,
   "metadata": {
    "id": "5RqXGRczpR_w"
   },
   "outputs": [],
   "source": [
    "epochs = range(1, len(acc2)+1)"
   ]
  },
  {
   "cell_type": "code",
   "execution_count": 15,
   "metadata": {
    "colab": {
     "base_uri": "https://localhost:8080/",
     "height": 513
    },
    "id": "aQRWfya9pXrD",
    "outputId": "165ad6e1-7aa4-49c5-a8df-d784b603c276"
   },
   "outputs": [
    {
     "data": {
      "image/png": "[encoded data removed]",
      "text/plain": [
       "<Figure size 432x288 with 1 Axes>"
      ]
     },
     "metadata": {
      "needs_background": "light"
     },
     "output_type": "display_data"
    },
    {
     "data": {
      "image/png": "[encoded data removed]",
      "text/plain": [
       "<Figure size 432x288 with 1 Axes>"
      ]
     },
     "metadata": {
      "needs_background": "light"
     },
     "output_type": "display_data"
    }
   ],
   "source": [
    "plt.plot(epochs, acc2,'b',label='Train Accuracy')\n",
    "plt.plot(epochs, val_acc,'r',label='Test Accuracy')\n",
    "plt.legend()\n",
    "plt.figure()\n",
    "plt.plot(epochs, loss2,'b',label='Train Loss')\n",
    "plt.plot(epochs, val_loss,'r',label='Test Loss')\n",
    "plt.legend()\n",
    "plt.show()"
   ]
  }
 ],
 "metadata": {
  "accelerator": "GPU",
  "colab": {
   "collapsed_sections": [],
   "name": "TP053554_Mamadou_Oury_Diallo_CNN.ipynb",
   "provenance": []
  },
  "kernelspec": {
   "display_name": "Python 3",
   "language": "python",
   "name": "python3"
  },
  "language_info": {
   "codemirror_mode": {
    "name": "ipython",
    "version": 3
   },
   "file_extension": ".py",
   "mimetype": "text/x-python",
   "name": "python",
   "nbconvert_exporter": "python",
   "pygments_lexer": "ipython3",
   "version": "3.8.8"
  }
 },
 "nbformat": 4,
 "nbformat_minor": 1
}
