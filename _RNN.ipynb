{
 "cells": [
  {
   "cell_type": "code",
   "execution_count": null,
   "metadata": {
    "id": "Lni4cmY8cVsc"
   },
   "outputs": [],
   "source": [
    "from keras.preprocessing import sequence\n",
    "from keras.datasets import reuters"
   ]
  },
  {
   "cell_type": "code",
   "execution_count": null,
   "metadata": {
    "colab": {
     "base_uri": "https://localhost:8080/"
    },
    "id": "kJlubLRqcfZA",
    "outputId": "f81e1ba5-e3b4-43fd-de9b-b834b8315725"
   },
   "outputs": [
    {
     "name": "stdout",
     "output_type": "stream",
     "text": [
      "Downloading data from https://storage.googleapis.com/tensorflow/tf-keras-datasets/reuters.npz\n",
      "2113536/2110848 [==============================] - 0s 0us/step\n",
      "2121728/2110848 [==============================] - 0s 0us/step\n"
     ]
    }
   ],
   "source": [
    "(X_train,y_train),(X_test,y_test) = reuters.load_data(num_words=None)"
   ]
  },
  {
   "cell_type": "code",
   "execution_count": null,
   "metadata": {
    "colab": {
     "base_uri": "https://localhost:8080/"
    },
    "id": "VZJlaLOqcfbv",
    "outputId": "c0cb4852-8a19-4ca7-b7cd-f074a114655b"
   },
   "outputs": [
    {
     "name": "stdout",
     "output_type": "stream",
     "text": [
      "X train shape:  (8982,)\n",
      "y train shape:  (8982,)\n"
     ]
    }
   ],
   "source": [
    "print(\"X train shape: \",X_train.shape)\n",
    "print(\"y train shape: \",y_train.shape)"
   ]
  },
  {
   "cell_type": "code",
   "execution_count": null,
   "metadata": {
    "id": "J6QtUrQIcfed"
   },
   "outputs": [],
   "source": [
    "# Preprocess\n",
    "max_words = 20000\n",
    "max_len = 80\n",
    "\n",
    "(X_train,y_train),(X_test,y_test) = reuters.load_data(num_words=max_words)\n",
    "X_train = sequence.pad_sequences(X_train,maxlen=max_len,padding='pre', truncating='pre')\n",
    "X_test = sequence.pad_sequences(X_test, maxlen=max_len)"
   ]
  },
  {
   "cell_type": "code",
   "execution_count": null,
   "metadata": {
    "id": "BL0Rs6fEcfgx"
   },
   "outputs": [],
   "source": [
    "from keras.utils import np_utils\n",
    "\n",
    "n_classes = 46\n",
    "y_train = np_utils.to_categorical(y_train, n_classes)\n",
    "y_test = np_utils.to_categorical(y_test, n_classes)"
   ]
  },
  {
   "cell_type": "code",
   "execution_count": null,
   "metadata": {
    "colab": {
     "base_uri": "https://localhost:8080/"
    },
    "id": "KQzTNG9tcfjs",
    "outputId": "fce229b7-a5db-482e-aae9-6546a25006ad"
   },
   "outputs": [
    {
     "name": "stdout",
     "output_type": "stream",
     "text": [
      "X train shape:  (8982, 80)\n",
      "y train shape:  (8982, 46)\n"
     ]
    }
   ],
   "source": [
    "print(\"X train shape: \",X_train.shape)\n",
    "print(\"y train shape: \",y_train.shape)"
   ]
  },
  {
   "cell_type": "code",
   "execution_count": null,
   "metadata": {
    "id": "xH4mm9xfcfl_"
   },
   "outputs": [],
   "source": [
    "# get_word_index function\n",
    "import tensorflow as tf\n",
    "tf.keras.datasets.imdb.get_word_index(path='imdb_word_index.json')"
   ]
  },
  {
   "cell_type": "code",
   "execution_count": null,
   "metadata": {
    "colab": {
     "base_uri": "https://localhost:8080/"
    },
    "id": "ci4VapUtcfow",
    "outputId": "2ed2994f-14b9-4e9e-a977-ebcc508f2891"
   },
   "outputs": [
    {
     "data": {
      "text/plain": [
       "array([[  5,  25, 207, ...,  15,  17,  12],\n",
       "       [  0,   0,   0, ..., 505,  17,  12],\n",
       "       [180, 183, 187, ...,  11,  17,  12],\n",
       "       ...,\n",
       "       [  0,   0,   0, ..., 407,  17,  12],\n",
       "       [ 11,  15,  22, ..., 364,  17,  12],\n",
       "       [ 76, 223,  51, ..., 113,  17,  12]], dtype=int32)"
      ]
     },
     "execution_count": 8,
     "metadata": {},
     "output_type": "execute_result"
    }
   ],
   "source": [
    "X_train"
   ]
  },
  {
   "cell_type": "code",
   "execution_count": null,
   "metadata": {
    "colab": {
     "base_uri": "https://localhost:8080/"
    },
    "id": "ZwTp36E9cfrO",
    "outputId": "3fff97f4-78f3-404c-d640-3f23d1f448e9"
   },
   "outputs": [
    {
     "data": {
      "text/plain": [
       "array([[0., 0., 0., ..., 0., 0., 0.],\n",
       "       [0., 0., 0., ..., 0., 0., 0.],\n",
       "       [0., 0., 0., ..., 0., 0., 0.],\n",
       "       ...,\n",
       "       [0., 0., 0., ..., 0., 0., 0.],\n",
       "       [0., 0., 0., ..., 0., 0., 0.],\n",
       "       [0., 0., 0., ..., 0., 0., 0.]], dtype=float32)"
      ]
     },
     "execution_count": 9,
     "metadata": {},
     "output_type": "execute_result"
    }
   ],
   "source": [
    "y_train"
   ]
  },
  {
   "cell_type": "code",
   "execution_count": null,
   "metadata": {
    "id": "Kle_1X31cft0"
   },
   "outputs": [],
   "source": [
    "# Step 2 define Model\n",
    "from keras.models import Sequential\n",
    "from keras.layers import Dense, Embedding, LSTM, Dropout\n",
    "\n",
    "model = Sequential()\n",
    "\n",
    "model.add(Embedding(max_words,256))\n",
    "model.add(LSTM(128,activation='tanh',return_sequences=True))\n",
    "model.add(LSTM(64,activation='tanh'))\n",
    "model.add(Dense(46,activation='softmax'))"
   ]
  },
  {
   "cell_type": "code",
   "execution_count": null,
   "metadata": {
    "id": "KFqKHoEnc-_7"
   },
   "outputs": [],
   "source": [
    "# Step 3 Compile Model\n",
    "model.compile(loss='categorical_crossentropy', optimizer='adam', metrics=['acc'])"
   ]
  },
  {
   "cell_type": "code",
   "execution_count": null,
   "metadata": {
    "colab": {
     "base_uri": "https://localhost:8080/"
    },
    "id": "I0fQXZ-Vc_EB",
    "outputId": "05f2c20a-68fd-4f03-ae1f-a1bdfd431a52"
   },
   "outputs": [
    {
     "name": "stdout",
     "output_type": "stream",
     "text": [
      "Epoch 1/10\n",
      "90/90 [==============================] - 57s 585ms/step - loss: 2.3525 - acc: 0.4300 - val_loss: 1.9064 - val_acc: 0.4973\n",
      "Epoch 2/10\n",
      "90/90 [==============================] - 48s 538ms/step - loss: 1.7715 - acc: 0.5387 - val_loss: 1.7380 - val_acc: 0.5445\n",
      "Epoch 3/10\n",
      "90/90 [==============================] - 48s 533ms/step - loss: 1.5911 - acc: 0.5900 - val_loss: 1.7317 - val_acc: 0.5570\n",
      "Epoch 4/10\n",
      "90/90 [==============================] - 48s 534ms/step - loss: 1.4538 - acc: 0.6238 - val_loss: 1.6405 - val_acc: 0.5904\n",
      "Epoch 5/10\n",
      "90/90 [==============================] - 49s 540ms/step - loss: 1.3344 - acc: 0.6485 - val_loss: 1.6148 - val_acc: 0.5899\n",
      "Epoch 6/10\n",
      "90/90 [==============================] - 48s 538ms/step - loss: 1.2256 - acc: 0.6780 - val_loss: 1.5578 - val_acc: 0.6055\n",
      "Epoch 7/10\n",
      "90/90 [==============================] - 48s 536ms/step - loss: 1.0841 - acc: 0.7171 - val_loss: 1.5504 - val_acc: 0.6131\n",
      "Epoch 8/10\n",
      "90/90 [==============================] - 48s 533ms/step - loss: 0.9443 - acc: 0.7595 - val_loss: 1.5454 - val_acc: 0.6193\n",
      "Epoch 9/10\n",
      "90/90 [==============================] - 48s 533ms/step - loss: 0.8235 - acc: 0.7956 - val_loss: 1.5794 - val_acc: 0.6153\n",
      "Epoch 10/10\n",
      "90/90 [==============================] - 48s 538ms/step - loss: 0.7093 - acc: 0.8218 - val_loss: 1.5695 - val_acc: 0.6371\n"
     ]
    }
   ],
   "source": [
    "history = model.fit(X_train, y_train, epochs=10, batch_size=100, validation_data=(X_test,y_test))"
   ]
  },
  {
   "cell_type": "code",
   "execution_count": null,
   "metadata": {
    "colab": {
     "base_uri": "https://localhost:8080/",
     "height": 513
    },
    "id": "6vrRt7d3c_G5",
    "outputId": "943dadd3-48cf-4a9c-e459-b554b3b59e42"
   },
   "outputs": [
    {
     "data": {
      "image/png": "[encoded data removed]",
      "text/plain": [
       "<Figure size 432x288 with 1 Axes>"
      ]
     },
     "metadata": {
      "needs_background": "light"
     },
     "output_type": "display_data"
    },
    {
     "data": {
      "image/png": "[encoded data removed]",
      "text/plain": [
       "<Figure size 432x288 with 1 Axes>"
      ]
     },
     "metadata": {
      "needs_background": "light"
     },
     "output_type": "display_data"
    }
   ],
   "source": [
    "import matplotlib.pyplot as plt\n",
    "\n",
    "acc = history.history['acc']\n",
    "val_acc = history.history['val_acc']\n",
    "loss = history.history['loss']\n",
    "val_loss = history.history['val_loss']\n",
    "\n",
    "epochs = range(1,len(acc)+1)\n",
    "\n",
    "plt.plot(epochs, acc, 'b',label='Train Accuracy')\n",
    "plt.plot(epochs, val_acc, 'r',label='Test Accuracy')\n",
    "plt.legend()\n",
    "plt.figure()\n",
    "plt.plot(epochs, loss,'b',label='Train Loss')\n",
    "plt.plot(epochs, val_loss,'r',label='Test Loss')\n",
    "plt.legend()\n",
    "plt.show()"
   ]
  },
  {
   "cell_type": "code",
   "execution_count": null,
   "metadata": {
    "id": "Mq53ifEvc_Jy"
   },
   "outputs": [],
   "source": []
  }
 ],
 "metadata": {
  "colab": {
   "collapsed_sections": [],
   "name": "TP053554_Mamadou_Oury_Diallo_RNN.ipynb",
   "provenance": []
  },
  "kernelspec": {
   "display_name": "Python 3 (ipykernel)",
   "language": "python",
   "name": "python3"
  },
  "language_info": {
   "codemirror_mode": {
    "name": "ipython",
    "version": 3
   },
   "file_extension": ".py",
   "mimetype": "text/x-python",
   "name": "python",
   "nbconvert_exporter": "python",
   "pygments_lexer": "ipython3",
   "version": "3.8.8"
  }
 },
 "nbformat": 4,
 "nbformat_minor": 1
}
