{
 "cells": [
  {
   "cell_type": "code",
   "execution_count": 1,
   "metadata": {
    "colab": {
     "base_uri": "https://localhost:8080/"
    },
    "id": "nL7ypImvxQsj",
    "outputId": "81afa553-6d27-480c-cdd3-1b9eb80f6332"
   },
   "outputs": [
    {
     "name": "stdout",
     "output_type": "stream",
     "text": [
      "Downloading data from https://www.cs.toronto.edu/~kriz/cifar-10-python.tar.gz\n",
      "170500096/170498071 [==============================] - 11s 0us/step\n",
      "170508288/170498071 [==============================] - 11s 0us/step\n"
     ]
    }
   ],
   "source": [
    "import keras\n",
    "from keras.models import Sequential\n",
    "from keras.layers import Dense # dense linear equation\n",
    "from keras.utils import np_utils\n",
    "from keras.datasets import cifar10\n",
    "import matplotlib.pyplot as plt\n",
    "\n",
    "# loading the dataset\n",
    "(X_train, y_train), (X_test, y_test) = cifar10.load_data()"
   ]
  },
  {
   "cell_type": "code",
   "execution_count": 2,
   "metadata": {
    "colab": {
     "base_uri": "https://localhost:8080/"
    },
    "id": "dOG2nLSNxV0G",
    "outputId": "4794f669-db69-4579-8b5e-e2d5055f455c"
   },
   "outputs": [
    {
     "name": "stdout",
     "output_type": "stream",
     "text": [
      "X_train shape:  (50000, 32, 32, 3)\n",
      "y_train shape:  (50000, 1)\n",
      "X_test shape:  (10000, 32, 32, 3)\n",
      "y_test shape:  (10000, 1)\n"
     ]
    }
   ],
   "source": [
    "print('X_train shape: ', X_train.shape)\n",
    "print('y_train shape: ', y_train.shape)\n",
    "print('X_test shape: ', X_test.shape)\n",
    "print('y_test shape: ', y_test.shape)"
   ]
  },
  {
   "cell_type": "code",
   "execution_count": 3,
   "metadata": {
    "id": "Wj3oKkujA3Np"
   },
   "outputs": [],
   "source": [
    "# flattening the images to 1D 3072 pixels\n",
    "X_train = X_train.reshape(50000, 3072)\n",
    "X_test = X_test.reshape(10000, 3072)\n",
    "\n"
   ]
  },
  {
   "cell_type": "code",
   "execution_count": 4,
   "metadata": {
    "id": "yEy03yPAA3Vp"
   },
   "outputs": [],
   "source": [
    "# converting from integers to floats\n",
    "X_train = X_train.astype('float32')\n",
    "X_test = X_test.astype('float32')"
   ]
  },
  {
   "cell_type": "code",
   "execution_count": 5,
   "metadata": {
    "id": "3EK_QxJaA3Yc"
   },
   "outputs": [],
   "source": [
    "# normalizing the data to help with the training\n",
    "X_train /= 255\n",
    "X_test /= 255"
   ]
  },
  {
   "cell_type": "code",
   "execution_count": 6,
   "metadata": {
    "id": "p6Dh_PcTA3bS"
   },
   "outputs": [],
   "source": [
    "# one-hot encoding using keras numpy-related utilities\n",
    "# np-utils.to_categorical is used to convert array of labeled data (from 0 to nb_classes - 1) to one hot vector\n",
    "n_classes = 10\n",
    "y_train = np_utils.to_categorical(y_train, n_classes)\n",
    "y_test = np_utils.to_categorical(y_test, n_classes)"
   ]
  },
  {
   "cell_type": "code",
   "execution_count": 7,
   "metadata": {
    "colab": {
     "base_uri": "https://localhost:8080/"
    },
    "id": "4b8AN4jnBFqP",
    "outputId": "d7b9eb8f-4ce9-4a55-86f3-aba93b3db87a"
   },
   "outputs": [
    {
     "name": "stdout",
     "output_type": "stream",
     "text": [
      "Epoch 1/10\n",
      "500/500 [==============================] - 6s 6ms/step - loss: 1.9008 - accuracy: 0.3080 - val_loss: 1.7416 - val_accuracy: 0.3810\n",
      "Epoch 2/10\n",
      "500/500 [==============================] - 3s 5ms/step - loss: 1.6959 - accuracy: 0.3894 - val_loss: 1.6746 - val_accuracy: 0.4039\n",
      "Epoch 3/10\n",
      "500/500 [==============================] - 3s 5ms/step - loss: 1.6195 - accuracy: 0.4203 - val_loss: 1.6053 - val_accuracy: 0.4273\n",
      "Epoch 4/10\n",
      "500/500 [==============================] - 3s 5ms/step - loss: 1.5620 - accuracy: 0.4426 - val_loss: 1.5616 - val_accuracy: 0.4396\n",
      "Epoch 5/10\n",
      "500/500 [==============================] - 3s 6ms/step - loss: 1.5212 - accuracy: 0.4569 - val_loss: 1.5470 - val_accuracy: 0.4495\n",
      "Epoch 6/10\n",
      "500/500 [==============================] - 3s 5ms/step - loss: 1.4958 - accuracy: 0.4637 - val_loss: 1.5018 - val_accuracy: 0.4687\n",
      "Epoch 7/10\n",
      "500/500 [==============================] - 3s 6ms/step - loss: 1.4649 - accuracy: 0.4780 - val_loss: 1.5104 - val_accuracy: 0.4699\n",
      "Epoch 8/10\n",
      "500/500 [==============================] - 3s 5ms/step - loss: 1.4405 - accuracy: 0.4884 - val_loss: 1.4586 - val_accuracy: 0.4829\n",
      "Epoch 9/10\n",
      "500/500 [==============================] - 3s 5ms/step - loss: 1.4274 - accuracy: 0.4906 - val_loss: 1.4593 - val_accuracy: 0.4785\n",
      "Epoch 10/10\n",
      "500/500 [==============================] - 3s 5ms/step - loss: 1.4101 - accuracy: 0.4977 - val_loss: 1.4580 - val_accuracy: 0.4878\n"
     ]
    }
   ],
   "source": [
    "# step 2: defining the model\n",
    "# 3 hidden layers\n",
    "L1 = 200 # neurons\n",
    "L2 = 100\n",
    "L3 = 50\n",
    "\n",
    "model = Sequential()\n",
    "model.add(Dense(L1, input_dim = 3072, activation = 'relu'))\n",
    "model.add(Dense(L2, activation = 'relu'))\n",
    "model.add(Dense(L3, activation = 'relu'))\n",
    "# based on 10 digits\n",
    "model.add(Dense(10, activation = 'softmax'))\n",
    "\n",
    "model.compile(optimizer = 'adam', loss = 'categorical_crossentropy', metrics = ['accuracy'])\n",
    "\n",
    "history = model.fit(X_train, y_train, epochs = 10, batch_size = 100, validation_data = (X_test, y_test))"
   ]
  },
  {
   "cell_type": "code",
   "execution_count": 8,
   "metadata": {
    "id": "rcbxQCGNBFs1"
   },
   "outputs": [],
   "source": [
    "acc2 = history.history['accuracy']\n",
    "val_acc = history.history['val_accuracy']\n",
    "loss2 = history.history['loss']\n",
    "val_loss = history.history['val_loss']"
   ]
  },
  {
   "cell_type": "code",
   "execution_count": 9,
   "metadata": {
    "id": "4rs8ZPg-BFva"
   },
   "outputs": [],
   "source": [
    "epochs = range(1, len(acc2) + 1)"
   ]
  },
  {
   "cell_type": "code",
   "execution_count": 10,
   "metadata": {
    "colab": {
     "base_uri": "https://localhost:8080/",
     "height": 513
    },
    "id": "RfaemoYbBFxw",
    "outputId": "bbea8a15-a452-4512-833d-d59c06473345"
   },
   "outputs": [
    {
     "data": {
      "image/png": "[encoded data removed]",
      "text/plain": [
       "<Figure size 432x288 with 1 Axes>"
      ]
     },
     "metadata": {
      "needs_background": "light"
     },
     "output_type": "display_data"
    },
    {
     "data": {
      "image/png": "[encoded data removed]",
      "text/plain": [
       "<Figure size 432x288 with 1 Axes>"
      ]
     },
     "metadata": {
      "needs_background": "light"
     },
     "output_type": "display_data"
    }
   ],
   "source": [
    "plt.plot(epochs, acc2, 'b', label = 'Train Accuracy')\n",
    "plt.plot(epochs, val_acc, 'r', label = 'Test Accuracy')\n",
    "plt.legend()\n",
    "plt.figure()\n",
    "plt.plot(epochs, loss2, 'b', label = 'Train Loss')\n",
    "plt.plot(epochs, val_loss, 'r', label = 'Test Loss')\n",
    "plt.legend()\n",
    "plt.show()"
   ]
  },
  {
   "cell_type": "code",
   "execution_count": null,
   "metadata": {
    "id": "Yx6J7e__BF0H"
   },
   "outputs": [],
   "source": []
  }
 ],
 "metadata": {
  "accelerator": "GPU",
  "colab": {
   "collapsed_sections": [],
   "name": "TP053554 MAMADOU OURY Diallo DNN.ipynb",
   "provenance": []
  },
  "kernelspec": {
   "display_name": "Python 3 (ipykernel)",
   "language": "python",
   "name": "python3"
  },
  "language_info": {
   "codemirror_mode": {
    "name": "ipython",
    "version": 3
   },
   "file_extension": ".py",
   "mimetype": "text/x-python",
   "name": "python",
   "nbconvert_exporter": "python",
   "pygments_lexer": "ipython3",
   "version": "3.8.8"
  }
 },
 "nbformat": 4,
 "nbformat_minor": 1
}
