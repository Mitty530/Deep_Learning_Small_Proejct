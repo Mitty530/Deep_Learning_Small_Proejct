{
 "cells": [
  {
   "cell_type": "code",
   "execution_count": 1,
   "id": "26b16fa0",
   "metadata": {},
   "outputs": [],
   "source": [
    "import pandas as pd\n",
    "from sklearn.model_selection import train_test_split\n",
    "from sklearn.preprocessing import StandardScaler\n",
    "from sklearn.linear_model import LogisticRegression\n",
    "from sklearn.metrics import classification_report, confusion_matrix\n",
    "from sklearn.model_selection import GridSearchCV\n",
    "import numpy as np"
   ]
  },
  {
   "cell_type": "code",
   "execution_count": 2,
   "id": "e7e77d32",
   "metadata": {},
   "outputs": [
    {
     "data": {
      "text/html": [
       "<div>\n",
       "<style scoped>\n",
       "    .dataframe tbody tr th:only-of-type {\n",
       "        vertical-align: middle;\n",
       "    }\n",
       "\n",
       "    .dataframe tbody tr th {\n",
       "        vertical-align: top;\n",
       "    }\n",
       "\n",
       "    .dataframe thead th {\n",
       "        text-align: right;\n",
       "    }\n",
       "</style>\n",
       "<table border=\"1\" class=\"dataframe\">\n",
       "  <thead>\n",
       "    <tr style=\"text-align: right;\">\n",
       "      <th></th>\n",
       "      <th>Pregnancies</th>\n",
       "      <th>Glucose</th>\n",
       "      <th>BloodPressure</th>\n",
       "      <th>SkinThickness</th>\n",
       "      <th>Insulin</th>\n",
       "      <th>BMI</th>\n",
       "      <th>DiabetesPedigreeFunction</th>\n",
       "      <th>Age</th>\n",
       "      <th>Outcome</th>\n",
       "    </tr>\n",
       "  </thead>\n",
       "  <tbody>\n",
       "    <tr>\n",
       "      <th>0</th>\n",
       "      <td>6</td>\n",
       "      <td>148</td>\n",
       "      <td>72</td>\n",
       "      <td>35</td>\n",
       "      <td>0</td>\n",
       "      <td>33.6</td>\n",
       "      <td>0.627</td>\n",
       "      <td>50</td>\n",
       "      <td>1</td>\n",
       "    </tr>\n",
       "    <tr>\n",
       "      <th>1</th>\n",
       "      <td>1</td>\n",
       "      <td>85</td>\n",
       "      <td>66</td>\n",
       "      <td>29</td>\n",
       "      <td>0</td>\n",
       "      <td>26.6</td>\n",
       "      <td>0.351</td>\n",
       "      <td>31</td>\n",
       "      <td>0</td>\n",
       "    </tr>\n",
       "    <tr>\n",
       "      <th>2</th>\n",
       "      <td>8</td>\n",
       "      <td>183</td>\n",
       "      <td>64</td>\n",
       "      <td>0</td>\n",
       "      <td>0</td>\n",
       "      <td>23.3</td>\n",
       "      <td>0.672</td>\n",
       "      <td>32</td>\n",
       "      <td>1</td>\n",
       "    </tr>\n",
       "    <tr>\n",
       "      <th>3</th>\n",
       "      <td>1</td>\n",
       "      <td>89</td>\n",
       "      <td>66</td>\n",
       "      <td>23</td>\n",
       "      <td>94</td>\n",
       "      <td>28.1</td>\n",
       "      <td>0.167</td>\n",
       "      <td>21</td>\n",
       "      <td>0</td>\n",
       "    </tr>\n",
       "    <tr>\n",
       "      <th>4</th>\n",
       "      <td>0</td>\n",
       "      <td>137</td>\n",
       "      <td>40</td>\n",
       "      <td>35</td>\n",
       "      <td>168</td>\n",
       "      <td>43.1</td>\n",
       "      <td>2.288</td>\n",
       "      <td>33</td>\n",
       "      <td>1</td>\n",
       "    </tr>\n",
       "  </tbody>\n",
       "</table>\n",
       "</div>"
      ],
      "text/plain": [
       "   Pregnancies  Glucose  BloodPressure  SkinThickness  Insulin   BMI  \\\n",
       "0            6      148             72             35        0  33.6   \n",
       "1            1       85             66             29        0  26.6   \n",
       "2            8      183             64              0        0  23.3   \n",
       "3            1       89             66             23       94  28.1   \n",
       "4            0      137             40             35      168  43.1   \n",
       "\n",
       "   DiabetesPedigreeFunction  Age  Outcome  \n",
       "0                     0.627   50        1  \n",
       "1                     0.351   31        0  \n",
       "2                     0.672   32        1  \n",
       "3                     0.167   21        0  \n",
       "4                     2.288   33        1  "
      ]
     },
     "execution_count": 2,
     "metadata": {},
     "output_type": "execute_result"
    }
   ],
   "source": [
    "df = pd.read_csv(\"/Users/mamadouourydiallo/Downloads/diabetes.csv\")\n",
    "# Check Data Shape\n",
    "df.head()"
   ]
  },
  {
   "cell_type": "code",
   "execution_count": 3,
   "id": "7da9b24e",
   "metadata": {},
   "outputs": [
    {
     "data": {
      "text/plain": [
       "(768, 9)"
      ]
     },
     "execution_count": 3,
     "metadata": {},
     "output_type": "execute_result"
    }
   ],
   "source": [
    "df.shape"
   ]
  },
  {
   "cell_type": "code",
   "execution_count": 5,
   "id": "1b99a140",
   "metadata": {},
   "outputs": [
    {
     "data": {
      "text/html": [
       "<style  type=\"text/css\" >\n",
       "#T_b1a46_row0_col0,#T_b1a46_row1_col1,#T_b1a46_row2_col2,#T_b1a46_row3_col3,#T_b1a46_row4_col4,#T_b1a46_row5_col5,#T_b1a46_row6_col6,#T_b1a46_row7_col7,#T_b1a46_row8_col8{\n",
       "            background-color:  #b40426;\n",
       "            color:  #f1f1f1;\n",
       "        }#T_b1a46_row0_col1{\n",
       "            background-color:  #516ddb;\n",
       "            color:  #000000;\n",
       "        }#T_b1a46_row0_col2{\n",
       "            background-color:  #5a78e4;\n",
       "            color:  #000000;\n",
       "        }#T_b1a46_row0_col3,#T_b1a46_row7_col4{\n",
       "            background-color:  #4358cb;\n",
       "            color:  #f1f1f1;\n",
       "        }#T_b1a46_row0_col4,#T_b1a46_row0_col5,#T_b1a46_row0_col6,#T_b1a46_row2_col8,#T_b1a46_row3_col0,#T_b1a46_row3_col1,#T_b1a46_row3_col7,#T_b1a46_row6_col2,#T_b1a46_row7_col3{\n",
       "            background-color:  #3b4cc0;\n",
       "            color:  #f1f1f1;\n",
       "        }#T_b1a46_row0_col7{\n",
       "            background-color:  #f1cdba;\n",
       "            color:  #000000;\n",
       "        }#T_b1a46_row0_col8,#T_b1a46_row1_col6{\n",
       "            background-color:  #6f92f3;\n",
       "            color:  #000000;\n",
       "        }#T_b1a46_row1_col0{\n",
       "            background-color:  #799cf8;\n",
       "            color:  #000000;\n",
       "        }#T_b1a46_row1_col2,#T_b1a46_row6_col8{\n",
       "            background-color:  #5e7de7;\n",
       "            color:  #000000;\n",
       "        }#T_b1a46_row1_col3{\n",
       "            background-color:  #6b8df0;\n",
       "            color:  #000000;\n",
       "        }#T_b1a46_row1_col4{\n",
       "            background-color:  #b9d0f9;\n",
       "            color:  #000000;\n",
       "        }#T_b1a46_row1_col5,#T_b1a46_row3_col6{\n",
       "            background-color:  #7ea1fa;\n",
       "            color:  #000000;\n",
       "        }#T_b1a46_row1_col7{\n",
       "            background-color:  #abc8fd;\n",
       "            color:  #000000;\n",
       "        }#T_b1a46_row1_col8{\n",
       "            background-color:  #c9d7f0;\n",
       "            color:  #000000;\n",
       "        }#T_b1a46_row2_col0,#T_b1a46_row7_col2{\n",
       "            background-color:  #7da0f9;\n",
       "            color:  #000000;\n",
       "        }#T_b1a46_row2_col1{\n",
       "            background-color:  #5977e3;\n",
       "            color:  #000000;\n",
       "        }#T_b1a46_row2_col3{\n",
       "            background-color:  #9abbff;\n",
       "            color:  #000000;\n",
       "        }#T_b1a46_row2_col4{\n",
       "            background-color:  #6a8bef;\n",
       "            color:  #000000;\n",
       "        }#T_b1a46_row2_col5,#T_b1a46_row6_col3{\n",
       "            background-color:  #93b5fe;\n",
       "            color:  #000000;\n",
       "        }#T_b1a46_row2_col6{\n",
       "            background-color:  #506bda;\n",
       "            color:  #000000;\n",
       "        }#T_b1a46_row2_col7{\n",
       "            background-color:  #a5c3fe;\n",
       "            color:  #000000;\n",
       "        }#T_b1a46_row3_col2,#T_b1a46_row5_col1{\n",
       "            background-color:  #7295f4;\n",
       "            color:  #000000;\n",
       "        }#T_b1a46_row3_col4{\n",
       "            background-color:  #d6dce4;\n",
       "            color:  #000000;\n",
       "        }#T_b1a46_row3_col5{\n",
       "            background-color:  #bad0f8;\n",
       "            color:  #000000;\n",
       "        }#T_b1a46_row3_col8{\n",
       "            background-color:  #3d50c3;\n",
       "            color:  #f1f1f1;\n",
       "        }#T_b1a46_row4_col0{\n",
       "            background-color:  #3c4ec2;\n",
       "            color:  #f1f1f1;\n",
       "        }#T_b1a46_row4_col1{\n",
       "            background-color:  #9bbcff;\n",
       "            color:  #000000;\n",
       "        }#T_b1a46_row4_col2{\n",
       "            background-color:  #4961d2;\n",
       "            color:  #f1f1f1;\n",
       "        }#T_b1a46_row4_col3{\n",
       "            background-color:  #dbdcde;\n",
       "            color:  #000000;\n",
       "        }#T_b1a46_row4_col5{\n",
       "            background-color:  #7597f6;\n",
       "            color:  #000000;\n",
       "        }#T_b1a46_row4_col6{\n",
       "            background-color:  #80a3fa;\n",
       "            color:  #000000;\n",
       "        }#T_b1a46_row4_col7,#T_b1a46_row7_col6{\n",
       "            background-color:  #4e68d8;\n",
       "            color:  #000000;\n",
       "        }#T_b1a46_row4_col8{\n",
       "            background-color:  #4f69d9;\n",
       "            color:  #000000;\n",
       "        }#T_b1a46_row5_col0{\n",
       "            background-color:  #5673e0;\n",
       "            color:  #000000;\n",
       "        }#T_b1a46_row5_col2,#T_b1a46_row5_col4{\n",
       "            background-color:  #8db0fe;\n",
       "            color:  #000000;\n",
       "        }#T_b1a46_row5_col3{\n",
       "            background-color:  #d1dae9;\n",
       "            color:  #000000;\n",
       "        }#T_b1a46_row5_col6,#T_b1a46_row8_col3{\n",
       "            background-color:  #7093f3;\n",
       "            color:  #000000;\n",
       "        }#T_b1a46_row5_col7{\n",
       "            background-color:  #6485ec;\n",
       "            color:  #000000;\n",
       "        }#T_b1a46_row5_col8{\n",
       "            background-color:  #8badfd;\n",
       "            color:  #000000;\n",
       "        }#T_b1a46_row6_col0{\n",
       "            background-color:  #485fd1;\n",
       "            color:  #f1f1f1;\n",
       "        }#T_b1a46_row6_col1{\n",
       "            background-color:  #5470de;\n",
       "            color:  #000000;\n",
       "        }#T_b1a46_row6_col4{\n",
       "            background-color:  #89acfd;\n",
       "            color:  #000000;\n",
       "        }#T_b1a46_row6_col5{\n",
       "            background-color:  #6282ea;\n",
       "            color:  #000000;\n",
       "        }#T_b1a46_row6_col7{\n",
       "            background-color:  #6384eb;\n",
       "            color:  #000000;\n",
       "        }#T_b1a46_row7_col0{\n",
       "            background-color:  #efcfbf;\n",
       "            color:  #000000;\n",
       "        }#T_b1a46_row7_col1{\n",
       "            background-color:  #81a4fb;\n",
       "            color:  #000000;\n",
       "        }#T_b1a46_row7_col5{\n",
       "            background-color:  #3f53c6;\n",
       "            color:  #f1f1f1;\n",
       "        }#T_b1a46_row7_col8{\n",
       "            background-color:  #7699f6;\n",
       "            color:  #000000;\n",
       "        }#T_b1a46_row8_col0,#T_b1a46_row8_col5{\n",
       "            background-color:  #97b8ff;\n",
       "            color:  #000000;\n",
       "        }#T_b1a46_row8_col1{\n",
       "            background-color:  #cbd8ee;\n",
       "            color:  #000000;\n",
       "        }#T_b1a46_row8_col2{\n",
       "            background-color:  #4257c9;\n",
       "            color:  #f1f1f1;\n",
       "        }#T_b1a46_row8_col4{\n",
       "            background-color:  #779af7;\n",
       "            color:  #000000;\n",
       "        }#T_b1a46_row8_col6{\n",
       "            background-color:  #7b9ff9;\n",
       "            color:  #000000;\n",
       "        }#T_b1a46_row8_col7{\n",
       "            background-color:  #a3c2fe;\n",
       "            color:  #000000;\n",
       "        }</style><table id=\"T_b1a46_\" ><thead>    <tr>        <th class=\"blank level0\" ></th>        <th class=\"col_heading level0 col0\" >Pregnancies</th>        <th class=\"col_heading level0 col1\" >Glucose</th>        <th class=\"col_heading level0 col2\" >BloodPressure</th>        <th class=\"col_heading level0 col3\" >SkinThickness</th>        <th class=\"col_heading level0 col4\" >Insulin</th>        <th class=\"col_heading level0 col5\" >BMI</th>        <th class=\"col_heading level0 col6\" >DiabetesPedigreeFunction</th>        <th class=\"col_heading level0 col7\" >Age</th>        <th class=\"col_heading level0 col8\" >Outcome</th>    </tr></thead><tbody>\n",
       "                <tr>\n",
       "                        <th id=\"T_b1a46_level0_row0\" class=\"row_heading level0 row0\" >Pregnancies</th>\n",
       "                        <td id=\"T_b1a46_row0_col0\" class=\"data row0 col0\" >1.00</td>\n",
       "                        <td id=\"T_b1a46_row0_col1\" class=\"data row0 col1\" >0.13</td>\n",
       "                        <td id=\"T_b1a46_row0_col2\" class=\"data row0 col2\" >0.14</td>\n",
       "                        <td id=\"T_b1a46_row0_col3\" class=\"data row0 col3\" >-0.08</td>\n",
       "                        <td id=\"T_b1a46_row0_col4\" class=\"data row0 col4\" >-0.07</td>\n",
       "                        <td id=\"T_b1a46_row0_col5\" class=\"data row0 col5\" >0.02</td>\n",
       "                        <td id=\"T_b1a46_row0_col6\" class=\"data row0 col6\" >-0.03</td>\n",
       "                        <td id=\"T_b1a46_row0_col7\" class=\"data row0 col7\" >0.54</td>\n",
       "                        <td id=\"T_b1a46_row0_col8\" class=\"data row0 col8\" >0.22</td>\n",
       "            </tr>\n",
       "            <tr>\n",
       "                        <th id=\"T_b1a46_level0_row1\" class=\"row_heading level0 row1\" >Glucose</th>\n",
       "                        <td id=\"T_b1a46_row1_col0\" class=\"data row1 col0\" >0.13</td>\n",
       "                        <td id=\"T_b1a46_row1_col1\" class=\"data row1 col1\" >1.00</td>\n",
       "                        <td id=\"T_b1a46_row1_col2\" class=\"data row1 col2\" >0.15</td>\n",
       "                        <td id=\"T_b1a46_row1_col3\" class=\"data row1 col3\" >0.06</td>\n",
       "                        <td id=\"T_b1a46_row1_col4\" class=\"data row1 col4\" >0.33</td>\n",
       "                        <td id=\"T_b1a46_row1_col5\" class=\"data row1 col5\" >0.22</td>\n",
       "                        <td id=\"T_b1a46_row1_col6\" class=\"data row1 col6\" >0.14</td>\n",
       "                        <td id=\"T_b1a46_row1_col7\" class=\"data row1 col7\" >0.26</td>\n",
       "                        <td id=\"T_b1a46_row1_col8\" class=\"data row1 col8\" >0.47</td>\n",
       "            </tr>\n",
       "            <tr>\n",
       "                        <th id=\"T_b1a46_level0_row2\" class=\"row_heading level0 row2\" >BloodPressure</th>\n",
       "                        <td id=\"T_b1a46_row2_col0\" class=\"data row2 col0\" >0.14</td>\n",
       "                        <td id=\"T_b1a46_row2_col1\" class=\"data row2 col1\" >0.15</td>\n",
       "                        <td id=\"T_b1a46_row2_col2\" class=\"data row2 col2\" >1.00</td>\n",
       "                        <td id=\"T_b1a46_row2_col3\" class=\"data row2 col3\" >0.21</td>\n",
       "                        <td id=\"T_b1a46_row2_col4\" class=\"data row2 col4\" >0.09</td>\n",
       "                        <td id=\"T_b1a46_row2_col5\" class=\"data row2 col5\" >0.28</td>\n",
       "                        <td id=\"T_b1a46_row2_col6\" class=\"data row2 col6\" >0.04</td>\n",
       "                        <td id=\"T_b1a46_row2_col7\" class=\"data row2 col7\" >0.24</td>\n",
       "                        <td id=\"T_b1a46_row2_col8\" class=\"data row2 col8\" >0.07</td>\n",
       "            </tr>\n",
       "            <tr>\n",
       "                        <th id=\"T_b1a46_level0_row3\" class=\"row_heading level0 row3\" >SkinThickness</th>\n",
       "                        <td id=\"T_b1a46_row3_col0\" class=\"data row3 col0\" >-0.08</td>\n",
       "                        <td id=\"T_b1a46_row3_col1\" class=\"data row3 col1\" >0.06</td>\n",
       "                        <td id=\"T_b1a46_row3_col2\" class=\"data row3 col2\" >0.21</td>\n",
       "                        <td id=\"T_b1a46_row3_col3\" class=\"data row3 col3\" >1.00</td>\n",
       "                        <td id=\"T_b1a46_row3_col4\" class=\"data row3 col4\" >0.44</td>\n",
       "                        <td id=\"T_b1a46_row3_col5\" class=\"data row3 col5\" >0.39</td>\n",
       "                        <td id=\"T_b1a46_row3_col6\" class=\"data row3 col6\" >0.18</td>\n",
       "                        <td id=\"T_b1a46_row3_col7\" class=\"data row3 col7\" >-0.11</td>\n",
       "                        <td id=\"T_b1a46_row3_col8\" class=\"data row3 col8\" >0.07</td>\n",
       "            </tr>\n",
       "            <tr>\n",
       "                        <th id=\"T_b1a46_level0_row4\" class=\"row_heading level0 row4\" >Insulin</th>\n",
       "                        <td id=\"T_b1a46_row4_col0\" class=\"data row4 col0\" >-0.07</td>\n",
       "                        <td id=\"T_b1a46_row4_col1\" class=\"data row4 col1\" >0.33</td>\n",
       "                        <td id=\"T_b1a46_row4_col2\" class=\"data row4 col2\" >0.09</td>\n",
       "                        <td id=\"T_b1a46_row4_col3\" class=\"data row4 col3\" >0.44</td>\n",
       "                        <td id=\"T_b1a46_row4_col4\" class=\"data row4 col4\" >1.00</td>\n",
       "                        <td id=\"T_b1a46_row4_col5\" class=\"data row4 col5\" >0.20</td>\n",
       "                        <td id=\"T_b1a46_row4_col6\" class=\"data row4 col6\" >0.19</td>\n",
       "                        <td id=\"T_b1a46_row4_col7\" class=\"data row4 col7\" >-0.04</td>\n",
       "                        <td id=\"T_b1a46_row4_col8\" class=\"data row4 col8\" >0.13</td>\n",
       "            </tr>\n",
       "            <tr>\n",
       "                        <th id=\"T_b1a46_level0_row5\" class=\"row_heading level0 row5\" >BMI</th>\n",
       "                        <td id=\"T_b1a46_row5_col0\" class=\"data row5 col0\" >0.02</td>\n",
       "                        <td id=\"T_b1a46_row5_col1\" class=\"data row5 col1\" >0.22</td>\n",
       "                        <td id=\"T_b1a46_row5_col2\" class=\"data row5 col2\" >0.28</td>\n",
       "                        <td id=\"T_b1a46_row5_col3\" class=\"data row5 col3\" >0.39</td>\n",
       "                        <td id=\"T_b1a46_row5_col4\" class=\"data row5 col4\" >0.20</td>\n",
       "                        <td id=\"T_b1a46_row5_col5\" class=\"data row5 col5\" >1.00</td>\n",
       "                        <td id=\"T_b1a46_row5_col6\" class=\"data row5 col6\" >0.14</td>\n",
       "                        <td id=\"T_b1a46_row5_col7\" class=\"data row5 col7\" >0.04</td>\n",
       "                        <td id=\"T_b1a46_row5_col8\" class=\"data row5 col8\" >0.29</td>\n",
       "            </tr>\n",
       "            <tr>\n",
       "                        <th id=\"T_b1a46_level0_row6\" class=\"row_heading level0 row6\" >DiabetesPedigreeFunction</th>\n",
       "                        <td id=\"T_b1a46_row6_col0\" class=\"data row6 col0\" >-0.03</td>\n",
       "                        <td id=\"T_b1a46_row6_col1\" class=\"data row6 col1\" >0.14</td>\n",
       "                        <td id=\"T_b1a46_row6_col2\" class=\"data row6 col2\" >0.04</td>\n",
       "                        <td id=\"T_b1a46_row6_col3\" class=\"data row6 col3\" >0.18</td>\n",
       "                        <td id=\"T_b1a46_row6_col4\" class=\"data row6 col4\" >0.19</td>\n",
       "                        <td id=\"T_b1a46_row6_col5\" class=\"data row6 col5\" >0.14</td>\n",
       "                        <td id=\"T_b1a46_row6_col6\" class=\"data row6 col6\" >1.00</td>\n",
       "                        <td id=\"T_b1a46_row6_col7\" class=\"data row6 col7\" >0.03</td>\n",
       "                        <td id=\"T_b1a46_row6_col8\" class=\"data row6 col8\" >0.17</td>\n",
       "            </tr>\n",
       "            <tr>\n",
       "                        <th id=\"T_b1a46_level0_row7\" class=\"row_heading level0 row7\" >Age</th>\n",
       "                        <td id=\"T_b1a46_row7_col0\" class=\"data row7 col0\" >0.54</td>\n",
       "                        <td id=\"T_b1a46_row7_col1\" class=\"data row7 col1\" >0.26</td>\n",
       "                        <td id=\"T_b1a46_row7_col2\" class=\"data row7 col2\" >0.24</td>\n",
       "                        <td id=\"T_b1a46_row7_col3\" class=\"data row7 col3\" >-0.11</td>\n",
       "                        <td id=\"T_b1a46_row7_col4\" class=\"data row7 col4\" >-0.04</td>\n",
       "                        <td id=\"T_b1a46_row7_col5\" class=\"data row7 col5\" >0.04</td>\n",
       "                        <td id=\"T_b1a46_row7_col6\" class=\"data row7 col6\" >0.03</td>\n",
       "                        <td id=\"T_b1a46_row7_col7\" class=\"data row7 col7\" >1.00</td>\n",
       "                        <td id=\"T_b1a46_row7_col8\" class=\"data row7 col8\" >0.24</td>\n",
       "            </tr>\n",
       "            <tr>\n",
       "                        <th id=\"T_b1a46_level0_row8\" class=\"row_heading level0 row8\" >Outcome</th>\n",
       "                        <td id=\"T_b1a46_row8_col0\" class=\"data row8 col0\" >0.22</td>\n",
       "                        <td id=\"T_b1a46_row8_col1\" class=\"data row8 col1\" >0.47</td>\n",
       "                        <td id=\"T_b1a46_row8_col2\" class=\"data row8 col2\" >0.07</td>\n",
       "                        <td id=\"T_b1a46_row8_col3\" class=\"data row8 col3\" >0.07</td>\n",
       "                        <td id=\"T_b1a46_row8_col4\" class=\"data row8 col4\" >0.13</td>\n",
       "                        <td id=\"T_b1a46_row8_col5\" class=\"data row8 col5\" >0.29</td>\n",
       "                        <td id=\"T_b1a46_row8_col6\" class=\"data row8 col6\" >0.17</td>\n",
       "                        <td id=\"T_b1a46_row8_col7\" class=\"data row8 col7\" >0.24</td>\n",
       "                        <td id=\"T_b1a46_row8_col8\" class=\"data row8 col8\" >1.00</td>\n",
       "            </tr>\n",
       "    </tbody></table>"
      ],
      "text/plain": [
       "<pandas.io.formats.style.Styler at 0x7fe0d05f8af0>"
      ]
     },
     "execution_count": 5,
     "metadata": {},
     "output_type": "execute_result"
    }
   ],
   "source": [
    "# Find the Correlation\n",
    "corr = df.corr()\n",
    "corr.style.background_gradient(cmap='coolwarm').set_precision(2)"
   ]
  },
  {
   "cell_type": "code",
   "execution_count": 6,
   "id": "7b26dbae",
   "metadata": {},
   "outputs": [],
   "source": [
    "# Define the Target(DV) and Features(IV)\n",
    "X = df[df.columns[0:8]]\n",
    "Y = df['Outcome']"
   ]
  },
  {
   "cell_type": "code",
   "execution_count": 7,
   "id": "432c6819",
   "metadata": {},
   "outputs": [],
   "source": [
    "# Spliting the Data\n",
    "X_train, X_test, Y_train, Y_test = train_test_split(X, Y, test_size = 0.20, random_state = 5)"
   ]
  },
  {
   "cell_type": "code",
   "execution_count": 8,
   "id": "f37d7d88",
   "metadata": {},
   "outputs": [],
   "source": [
    "#Normalisation\n",
    "scaler = StandardScaler()\n",
    "\n",
    "X_train = scaler.fit_transform(X_train)\n",
    "X_test = scaler.transform(X_test)"
   ]
  },
  {
   "cell_type": "code",
   "execution_count": 9,
   "id": "ee49f609",
   "metadata": {},
   "outputs": [
    {
     "data": {
      "text/plain": [
       "LogisticRegression(random_state=0, solver='liblinear')"
      ]
     },
     "execution_count": 9,
     "metadata": {},
     "output_type": "execute_result"
    }
   ],
   "source": [
    "#Logistic Model\n",
    "model = LogisticRegression(solver = 'liblinear', random_state = 0)\n",
    "model.fit(X_train,Y_train)"
   ]
  },
  {
   "cell_type": "code",
   "execution_count": 10,
   "id": "dba6b698",
   "metadata": {},
   "outputs": [
    {
     "data": {
      "text/plain": [
       "array([0, 1])"
      ]
     },
     "execution_count": 10,
     "metadata": {},
     "output_type": "execute_result"
    }
   ],
   "source": [
    "model.classes_"
   ]
  },
  {
   "cell_type": "code",
   "execution_count": 11,
   "id": "f845491f",
   "metadata": {},
   "outputs": [
    {
     "name": "stdout",
     "output_type": "stream",
     "text": [
      "Y_intercept [-0.85460645] \n",
      "\n",
      "Slope [[ 0.41825007  1.04068431 -0.32443059 -0.06443894 -0.06143852  0.69763117\n",
      "   0.34231573  0.20161024]]\n"
     ]
    }
   ],
   "source": [
    "#model evaluation\n",
    "print(\"Y_intercept\", model.intercept_, \"\\n\")\n",
    "print(\"Slope\", model.coef_)"
   ]
  },
  {
   "cell_type": "code",
   "execution_count": 12,
   "id": "ce83ef09",
   "metadata": {},
   "outputs": [
    {
     "data": {
      "text/plain": [
       "0.7987012987012987"
      ]
     },
     "execution_count": 12,
     "metadata": {},
     "output_type": "execute_result"
    }
   ],
   "source": [
    "# model accuracy\n",
    "model.score(X_test,Y_test)"
   ]
  },
  {
   "cell_type": "code",
   "execution_count": 13,
   "id": "a5aefbea",
   "metadata": {},
   "outputs": [
    {
     "name": "stdout",
     "output_type": "stream",
     "text": [
      "              precision    recall  f1-score   support\n",
      "\n",
      "           0       0.82      0.88      0.85       100\n",
      "           1       0.74      0.65      0.69        54\n",
      "\n",
      "    accuracy                           0.80       154\n",
      "   macro avg       0.78      0.76      0.77       154\n",
      "weighted avg       0.80      0.80      0.80       154\n",
      "\n"
     ]
    }
   ],
   "source": [
    "# classification report\n",
    "print(classification_report(Y_test, model.predict(X_test)))"
   ]
  },
  {
   "cell_type": "code",
   "execution_count": 14,
   "id": "4118a09e",
   "metadata": {},
   "outputs": [
    {
     "name": "stdout",
     "output_type": "stream",
     "text": [
      "Y_intercept [-1.07574511] \n",
      "\n",
      "Slope [[ 1.38410619  0.64778572 -0.54419045 -0.71320595 -0.2681374   1.47076827\n",
      "   1.20834654  0.3826014 ]]\n",
      "score 0.7142857142857143\n"
     ]
    }
   ],
   "source": [
    "# SDG\n",
    "from sklearn.linear_model import SGDClassifier\n",
    "clf = SGDClassifier(loss = 'log', max_iter=1000, alpha= 0.0001)\n",
    "clf.fit(X_train,Y_train)\n",
    "Y_pred = clf.predict(X_test)\n",
    "\n",
    "print(\"Y_intercept\", clf.intercept_, \"\\n\")\n",
    "print(\"Slope\", clf.coef_)\n",
    "print(\"score\", clf.score(X_test,Y_test))"
   ]
  },
  {
   "cell_type": "code",
   "execution_count": 15,
   "id": "74763ac7",
   "metadata": {},
   "outputs": [
    {
     "data": {
      "text/plain": [
       "GridSearchCV(estimator=SGDClassifier(random_state=0),\n",
       "             param_grid={'alpha': [1e-06, 1e-05, 0.0001, 0.001, 0.01, 0.1, 1],\n",
       "                         'loss': ('hinge', 'log', 'modified_huber'),\n",
       "                         'max_iter': [5000, 10000, 20000],\n",
       "                         'penalty': ('l2', 'l1', 'elasticnet')})"
      ]
     },
     "execution_count": 15,
     "metadata": {},
     "output_type": "execute_result"
    }
   ],
   "source": [
    "# Grid Search\n",
    "from sklearn.model_selection import GridSearchCV\n",
    "\n",
    "parameters = {'loss':('hinge','log','modified_huber'),\n",
    "              'penalty':('l2','l1','elasticnet'),\n",
    "              'alpha':[1e-6,1e-5,1e-4,1e-3,1e-2,1e-1,1],\n",
    "              'max_iter':[5000,10000,20000]}\n",
    "\n",
    "\n",
    "model3 = SGDClassifier(random_state=0)\n",
    "\n",
    "clf = GridSearchCV(model3, parameters)\n",
    "clf.fit(X_train,Y_train)"
   ]
  },
  {
   "cell_type": "code",
   "execution_count": 16,
   "id": "8a5ae9dc",
   "metadata": {},
   "outputs": [
    {
     "data": {
      "text/plain": [
       "{'alpha': 0.1,\n",
       " 'loss': 'modified_huber',\n",
       " 'max_iter': 5000,\n",
       " 'penalty': 'elasticnet'}"
      ]
     },
     "execution_count": 16,
     "metadata": {},
     "output_type": "execute_result"
    }
   ],
   "source": [
    "clf.best_params_"
   ]
  },
  {
   "cell_type": "code",
   "execution_count": 17,
   "id": "238089a5",
   "metadata": {},
   "outputs": [
    {
     "data": {
      "text/plain": [
       "0.7703718512594963"
      ]
     },
     "execution_count": 17,
     "metadata": {},
     "output_type": "execute_result"
    }
   ],
   "source": [
    "clf.best_score_"
   ]
  },
  {
   "cell_type": "code",
   "execution_count": 18,
   "id": "1e7c4260",
   "metadata": {},
   "outputs": [
    {
     "data": {
      "text/plain": [
       "array([-0.3031429])"
      ]
     },
     "execution_count": 18,
     "metadata": {},
     "output_type": "execute_result"
    }
   ],
   "source": [
    "clf.best_estimator_.intercept_"
   ]
  },
  {
   "cell_type": "code",
   "execution_count": null,
   "id": "518eb786",
   "metadata": {},
   "outputs": [],
   "source": []
  }
 ],
 "metadata": {
  "kernelspec": {
   "display_name": "Python 3 (ipykernel)",
   "language": "python",
   "name": "python3"
  },
  "language_info": {
   "codemirror_mode": {
    "name": "ipython",
    "version": 3
   },
   "file_extension": ".py",
   "mimetype": "text/x-python",
   "name": "python",
   "nbconvert_exporter": "python",
   "pygments_lexer": "ipython3",
   "version": "3.8.8"
  }
 },
 "nbformat": 4,
 "nbformat_minor": 5
}
