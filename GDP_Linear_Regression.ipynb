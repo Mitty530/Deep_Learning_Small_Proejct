{
 "cells": [
  {
   "cell_type": "code",
   "execution_count": 18,
   "id": "5e916b80",
   "metadata": {},
   "outputs": [],
   "source": [
    "import pandas as pd\n",
    "from sklearn.model_selection import train_test_split\n",
    "from sklearn.linear_model import LinearRegression\n",
    "from sklearn.preprocessing import PolynomialFeatures\n",
    "from sklearn.model_selection import GridSearchCV\n",
    "from sklearn.linear_model import SGDRegressor\n",
    "from sklearn.metrics import mean_squared_error, r2_score\n",
    "import matplotlib.pyplot as plt\n",
    "import numpy as np"
   ]
  },
  {
   "cell_type": "code",
   "execution_count": 3,
   "id": "b974cee7",
   "metadata": {},
   "outputs": [
    {
     "data": {
      "text/html": [
       "<div>\n",
       "<style scoped>\n",
       "    .dataframe tbody tr th:only-of-type {\n",
       "        vertical-align: middle;\n",
       "    }\n",
       "\n",
       "    .dataframe tbody tr th {\n",
       "        vertical-align: top;\n",
       "    }\n",
       "\n",
       "    .dataframe thead th {\n",
       "        text-align: right;\n",
       "    }\n",
       "</style>\n",
       "<table border=\"1\" class=\"dataframe\">\n",
       "  <thead>\n",
       "    <tr style=\"text-align: right;\">\n",
       "      <th></th>\n",
       "      <th>Year</th>\n",
       "      <th>Value</th>\n",
       "    </tr>\n",
       "  </thead>\n",
       "  <tbody>\n",
       "    <tr>\n",
       "      <th>0</th>\n",
       "      <td>1960</td>\n",
       "      <td>5.918412e+10</td>\n",
       "    </tr>\n",
       "    <tr>\n",
       "      <th>1</th>\n",
       "      <td>1961</td>\n",
       "      <td>4.955705e+10</td>\n",
       "    </tr>\n",
       "    <tr>\n",
       "      <th>2</th>\n",
       "      <td>1962</td>\n",
       "      <td>4.668518e+10</td>\n",
       "    </tr>\n",
       "    <tr>\n",
       "      <th>3</th>\n",
       "      <td>1963</td>\n",
       "      <td>5.009730e+10</td>\n",
       "    </tr>\n",
       "    <tr>\n",
       "      <th>4</th>\n",
       "      <td>1964</td>\n",
       "      <td>5.906225e+10</td>\n",
       "    </tr>\n",
       "  </tbody>\n",
       "</table>\n",
       "</div>"
      ],
      "text/plain": [
       "   Year         Value\n",
       "0  1960  5.918412e+10\n",
       "1  1961  4.955705e+10\n",
       "2  1962  4.668518e+10\n",
       "3  1963  5.009730e+10\n",
       "4  1964  5.906225e+10"
      ]
     },
     "execution_count": 3,
     "metadata": {},
     "output_type": "execute_result"
    }
   ],
   "source": [
    "df = pd.read_csv(\"/Users/mamadouourydiallo/Downloads/gdp.csv\")\n",
    "df.head()"
   ]
  },
  {
   "cell_type": "code",
   "execution_count": 4,
   "id": "8008a1d0",
   "metadata": {},
   "outputs": [
    {
     "data": {
      "text/plain": [
       "(55, 2)"
      ]
     },
     "execution_count": 4,
     "metadata": {},
     "output_type": "execute_result"
    }
   ],
   "source": [
    "df.shape"
   ]
  },
  {
   "cell_type": "code",
   "execution_count": 6,
   "id": "446bf6db",
   "metadata": {},
   "outputs": [],
   "source": [
    "x = df.drop(\"Value\", axis=1)\n",
    "y = df['Value']"
   ]
  },
  {
   "cell_type": "code",
   "execution_count": 7,
   "id": "16e73d28",
   "metadata": {},
   "outputs": [
    {
     "name": "stdout",
     "output_type": "stream",
     "text": [
      "[[1960]\n",
      " [1961]\n",
      " [1962]\n",
      " [1963]\n",
      " [1964]\n",
      " [1965]\n",
      " [1966]\n",
      " [1967]\n",
      " [1968]\n",
      " [1969]\n",
      " [1970]\n",
      " [1971]\n",
      " [1972]\n",
      " [1973]\n",
      " [1974]\n",
      " [1975]\n",
      " [1976]\n",
      " [1977]\n",
      " [1978]\n",
      " [1979]\n",
      " [1980]\n",
      " [1981]\n",
      " [1982]\n",
      " [1983]\n",
      " [1984]\n",
      " [1985]\n",
      " [1986]\n",
      " [1987]\n",
      " [1988]\n",
      " [1989]\n",
      " [1990]\n",
      " [1991]\n",
      " [1992]\n",
      " [1993]\n",
      " [1994]\n",
      " [1995]\n",
      " [1996]\n",
      " [1997]\n",
      " [1998]\n",
      " [1999]\n",
      " [2000]\n",
      " [2001]\n",
      " [2002]\n",
      " [2003]\n",
      " [2004]\n",
      " [2005]\n",
      " [2006]\n",
      " [2007]\n",
      " [2008]\n",
      " [2009]\n",
      " [2010]\n",
      " [2011]\n",
      " [2012]\n",
      " [2013]\n",
      " [2014]]\n"
     ]
    }
   ],
   "source": [
    "# Transform 'x' into an Array\n",
    "x1 = pd.DataFrame.to_numpy(x)\n",
    "print(x1)"
   ]
  },
  {
   "cell_type": "code",
   "execution_count": 8,
   "id": "48346fa2",
   "metadata": {},
   "outputs": [
    {
     "data": {
      "text/plain": [
       "Text(0.5, 1.0, 'Non-Linear Data')"
      ]
     },
     "execution_count": 8,
     "metadata": {},
     "output_type": "execute_result"
    },
    {
     "data": {
      "image/png": "[encoded data removed]",
      "text/plain": [
       "<Figure size 432x288 with 1 Axes>"
      ]
     },
     "metadata": {
      "needs_background": "light"
     },
     "output_type": "display_data"
    }
   ],
   "source": [
    "plt.scatter(x, y)\n",
    "plt.xlabel('x')\n",
    "plt.ylabel('y')\n",
    "plt.title('Non-Linear Data')"
   ]
  },
  {
   "cell_type": "code",
   "execution_count": 9,
   "id": "55493a8a",
   "metadata": {},
   "outputs": [
    {
     "name": "stdout",
     "output_type": "stream",
     "text": [
      "[1963]\n",
      "[1.963000e+03 3.853369e+06]\n"
     ]
    }
   ],
   "source": [
    "# Polynomial Degree 2\n",
    "poly_features = PolynomialFeatures(degree=2, include_bias=False)\n",
    "x_poly = poly_features.fit_transform(x1)\n",
    "\n",
    "print(x1[3])\n",
    "# second value = to check spread of values\n",
    "print(x_poly[3])"
   ]
  },
  {
   "cell_type": "code",
   "execution_count": 10,
   "id": "e854c2e1",
   "metadata": {},
   "outputs": [
    {
     "name": "stdout",
     "output_type": "stream",
     "text": [
      "Coefficients of x:  [-2.45476773e+13  6.20549496e+09]\n",
      "Intercept of x:  2.4275765309680172e+16\n"
     ]
    }
   ],
   "source": [
    "model = LinearRegression()\n",
    "model.fit(x_poly, y)\n",
    "\n",
    "print('Coefficients of x: ', model.coef_)\n",
    "# there's 2 coefficients bcos its a quadratic\n",
    "print('Intercept of x: ', model.intercept_)\n",
    "\n",
    "# Prediction\n",
    "y_deg2 = model.predict(x_poly)"
   ]
  },
  {
   "cell_type": "code",
   "execution_count": 11,
   "id": "62fdaee5",
   "metadata": {},
   "outputs": [
    {
     "name": "stdout",
     "output_type": "stream",
     "text": [
      "MSE of Polyregression Model: 966880254043974484885504.00\n",
      "R2 Score of Non-Linear Model: 0.8424446722331709\n"
     ]
    }
   ],
   "source": [
    "# Model Evaluation\n",
    "print('MSE of Polyregression Model: %.2f' % mean_squared_error(y, y_deg2))\n",
    "print('R2 Score of Non-Linear Model:', model.score(x_poly, y))"
   ]
  },
  {
   "cell_type": "code",
   "execution_count": 12,
   "id": "f7445614",
   "metadata": {},
   "outputs": [
    {
     "data": {
      "text/plain": [
       "Text(0.5, 1.0, 'Quadratic Prediction Plot')"
      ]
     },
     "execution_count": 12,
     "metadata": {},
     "output_type": "execute_result"
    },
    {
     "data": {
      "image/png": "[encoded data removed]",
      "text/plain": [
       "<Figure size 432x288 with 1 Axes>"
      ]
     },
     "metadata": {
      "needs_background": "light"
     },
     "output_type": "display_data"
    }
   ],
   "source": [
    "x_new = np.linspace(1960, 2014, 10).reshape(10, 1)\n",
    "x_new_poly = poly_features.transform(x_new)\n",
    "y_new = model.predict(x_new_poly)\n",
    "plt.plot(x, y, \"b.\")\n",
    "plt.plot(x_new, y_new, \"r-\", linewidth=2, label=\"Prediction\")\n",
    "plt.xlabel(\"$x_1$\", fontsize=18)\n",
    "plt.ylabel(\"$y$\", rotation=0, fontsize=18)\n",
    "plt.legend(loc=\"upper left\", fontsize=14)\n",
    "plt.title(\"Quadratic Prediction Plot\")"
   ]
  },
  {
   "cell_type": "code",
   "execution_count": 19,
   "id": "cfd3af98",
   "metadata": {},
   "outputs": [
    {
     "data": {
      "text/plain": [
       "GridSearchCV(estimator=SGDRegressor(random_state=0),\n",
       "             param_grid={'alpha': [1e-06, 1e-05, 0.0001, 0.001, 0.01, 0.1, 1],\n",
       "                         'loss': ('huber', 'epsilon_insensitive'),\n",
       "                         'max_iter': [1000, 5000, 10000, 20000],\n",
       "                         'penalty': ('l2', 'l1', 'elasticnet')})"
      ]
     },
     "execution_count": 19,
     "metadata": {},
     "output_type": "execute_result"
    }
   ],
   "source": [
    "parameters = {'loss':('huber', 'epsilon_insensitive'),\n",
    "              'penalty':('l2', 'l1', 'elasticnet'),\n",
    "              'alpha':[1e-6,1e-5,1e-4,1e-3,1e-2,1e-1,1],\n",
    "              'max_iter':[1000,5000,10000,20000]}\n",
    "\n",
    "model3 = SGDRegressor(random_state=0)\n",
    "\n",
    "clf = GridSearchCV(model3, parameters)\n",
    "\n",
    "clf.fit(x_poly, y)\n",
    "\n",
    "GridSearchCV(estimator=SGDRegressor(random_state=0),\n",
    "             param_grid={'alpha':[1e-6,1e-5,0.0001,0.001,0.01,0.1,1],\n",
    "                         'loss':('huber', 'epsilon_insensitive'),\n",
    "                         'max_iter':[1000,5000,10000,20000],\n",
    "                         'penalty':('l2', 'l1', 'elasticnet'),})"
   ]
  },
  {
   "cell_type": "code",
   "execution_count": 20,
   "id": "a7cfe8c6",
   "metadata": {},
   "outputs": [
    {
     "data": {
      "text/plain": [
       "SGDRegressor(random_state=5)"
      ]
     },
     "execution_count": 20,
     "metadata": {},
     "output_type": "execute_result"
    }
   ],
   "source": [
    "# SGD Analysis\n",
    "model = SGDRegressor(random_state=5)\n",
    "model.fit(x_poly, y)"
   ]
  },
  {
   "cell_type": "code",
   "execution_count": 21,
   "id": "586d4cfd",
   "metadata": {},
   "outputs": [
    {
     "name": "stdout",
     "output_type": "stream",
     "text": [
      "R-squared: -25005341895724109824.00\n"
     ]
    }
   ],
   "source": [
    "R2 = model.score(x_poly, y)\n",
    "print(\"R-squared: %.2f\" % R2)"
   ]
  },
  {
   "cell_type": "code",
   "execution_count": 22,
   "id": "b28c1cd1",
   "metadata": {},
   "outputs": [
    {
     "name": "stdout",
     "output_type": "stream",
     "text": [
      "Mean squared error: 966880254043974484885504.00\n"
     ]
    }
   ],
   "source": [
    "MSE = mean_squared_error(y, y_deg2)\n",
    "print(\"Mean squared error: %.2f\" % MSE)"
   ]
  },
  {
   "cell_type": "code",
   "execution_count": 23,
   "id": "62516b2d",
   "metadata": {},
   "outputs": [
    {
     "name": "stdout",
     "output_type": "stream",
     "text": [
      "Coefficients: [-8.27571455e+11  3.13694841e+15]\n",
      "Y_intercept [-1.62912129e+09] \n",
      "\n"
     ]
    }
   ],
   "source": [
    "print(\"Coefficients:\", model.coef_)\n",
    "print(\"Y_intercept\", model.intercept_, \"\\n\")"
   ]
  },
  {
   "cell_type": "code",
   "execution_count": 25,
   "id": "660be75f",
   "metadata": {},
   "outputs": [
    {
     "name": "stdout",
     "output_type": "stream",
     "text": [
      "{'alpha': 0.0001, 'average': False, 'early_stopping': False, 'epsilon': 0.1, 'eta0': 0.01, 'fit_intercept': True, 'l1_ratio': 0.15, 'learning_rate': 'invscaling', 'loss': 'squared_loss', 'max_iter': 1000, 'n_iter_no_change': 5, 'penalty': 'l2', 'power_t': 0.25, 'random_state': 5, 'shuffle': True, 'tol': 0.001, 'validation_fraction': 0.1, 'verbose': 0, 'warm_start': False}\n"
     ]
    }
   ],
   "source": [
    "print(model.get_params())"
   ]
  },
  {
   "cell_type": "code",
   "execution_count": 27,
   "id": "0d0d3882",
   "metadata": {},
   "outputs": [
    {
     "data": {
      "text/plain": [
       "GridSearchCV(estimator=SGDRegressor(random_state=0),\n",
       "             param_grid={'alpha': [1e-06, 1e-05, 0.0001, 0.001, 0.01, 0.1, 1],\n",
       "                         'loss': ('huber', 'epsilon_insensitive'),\n",
       "                         'max_iter': [1000, 5000, 10000, 20000],\n",
       "                         'penalty': ('l2', 'l1', 'elasticnet')})"
      ]
     },
     "execution_count": 27,
     "metadata": {},
     "output_type": "execute_result"
    }
   ],
   "source": [
    "parameters = {'loss':('huber', 'epsilon_insensitive'),\n",
    "              'penalty':('l2', 'l1', 'elasticnet'),\n",
    "              'alpha':[1e-6,1e-5,1e-4,1e-3,1e-2,1e-1,1],\n",
    "              'max_iter':[1000,5000,10000,20000]}\n",
    "\n",
    "model3 = SGDRegressor(random_state=0)\n",
    "\n",
    "clf = GridSearchCV(model3, parameters)\n",
    "\n",
    "clf.fit(x_poly, y)\n",
    "\n",
    "GridSearchCV(estimator=SGDRegressor(random_state=0),\n",
    "             param_grid={'alpha':[1e-6,1e-5,0.0001,0.001,0.01,0.1,1],\n",
    "                         'loss':('huber', 'epsilon_insensitive'),\n",
    "                         'max_iter':[1000,5000,10000,20000],\n",
    "                         'penalty':('l2', 'l1', 'elasticnet'),})"
   ]
  },
  {
   "cell_type": "code",
   "execution_count": 28,
   "id": "4307cd15",
   "metadata": {},
   "outputs": [
    {
     "name": "stdout",
     "output_type": "stream",
     "text": [
      "{'alpha': 1, 'loss': 'huber', 'max_iter': 1000, 'penalty': 'l2'}\n"
     ]
    }
   ],
   "source": [
    "print(clf.best_params_)"
   ]
  },
  {
   "cell_type": "code",
   "execution_count": 29,
   "id": "fcbdd851",
   "metadata": {},
   "outputs": [
    {
     "name": "stdout",
     "output_type": "stream",
     "text": [
      "-76.59416767506205\n"
     ]
    }
   ],
   "source": [
    "print(clf.best_score_)"
   ]
  }
 ],
 "metadata": {
  "kernelspec": {
   "display_name": "Python 3 (ipykernel)",
   "language": "python",
   "name": "python3"
  },
  "language_info": {
   "codemirror_mode": {
    "name": "ipython",
    "version": 3
   },
   "file_extension": ".py",
   "mimetype": "text/x-python",
   "name": "python",
   "nbconvert_exporter": "python",
   "pygments_lexer": "ipython3",
   "version": "3.8.8"
  }
 },
 "nbformat": 4,
 "nbformat_minor": 5
}
